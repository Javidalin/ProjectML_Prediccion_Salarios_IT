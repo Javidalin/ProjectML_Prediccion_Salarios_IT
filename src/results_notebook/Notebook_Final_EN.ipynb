{
 "cells": [
  {
   "cell_type": "markdown",
   "id": "1aa581cd",
   "metadata": {},
   "source": [
    "**Paso 0: Librerias**"
   ]
  },
  {
   "cell_type": "code",
   "execution_count": null,
   "id": "c2e1fb52",
   "metadata": {},
   "outputs": [],
   "source": [
    "import pandas as pd\n",
    "import numpy as np\n",
    "import re\n",
    "from sklearn.model_selection import train_test_split, GridSearchCV\n",
    "from sklearn.metrics import r2_score\n",
    "from catboost import CatBoostRegressor\n",
    "import warnings\n",
    "warnings.filterwarnings(\"ignore\")\n",
    "\n",
    "import joblib"
   ]
  },
  {
   "cell_type": "markdown",
   "id": "f4377cd0",
   "metadata": {},
   "source": [
    "**Paso 1: Limpieza avanzada y estandarización de variables**"
   ]
  },
  {
   "cell_type": "code",
   "execution_count": null,
   "id": "f8363319",
   "metadata": {},
   "outputs": [],
   "source": [
    "df = pd.read_csv(\"../data_sample/data_sample.csv\")\n",
    "\n",
    "df = df.rename(columns={\n",
    "    \"Employment\": \"TipoEmpleo\",\n",
    "    \"RemoteWork\": \"TrabajoRemoto\",\n",
    "    \"DevType\": \"Rol\",\n",
    "    \"EdLevel\": \"NivelEducativo\",\n",
    "    \"YearsCodePro\": \"AniosExperiencia\",\n",
    "    \"Country\": \"Pais\",\n",
    "    \"OrgSize\": \"TamanoEmpresa\",\n",
    "    \"ConvertedCompYearly\": \"SalarioAnual\"\n",
    "})\n",
    "\n",
    "columnas_utiles = [\n",
    "    \"TipoEmpleo\", \"TrabajoRemoto\", \"Rol\", \"NivelEducativo\",\n",
    "    \"AniosExperiencia\", \"Pais\", \"TamanoEmpresa\", \"SalarioAnual\"\n",
    "]\n",
    "df = df[columnas_utiles]\n",
    "\n",
    "df[\"AniosExperiencia\"] = df[\"AniosExperiencia\"].replace({\n",
    "    \"Less than 1 year\": \"0\",\n",
    "    \"More than 50 years\": \"51\"\n",
    "})\n",
    "df[\"AniosExperiencia\"] = pd.to_numeric(df[\"AniosExperiencia\"], errors=\"coerce\")\n",
    "\n",
    "top_paises = df[\"Pais\"].value_counts().head(15).index\n",
    "df[\"Pais\"] = df[\"Pais\"].apply(lambda x: x if x in top_paises else \"Otro\")\n",
    "\n",
    "def simplificar_tipo_empleo(valor):\n",
    "    if pd.isna(valor): return None\n",
    "    if \"full-time\" in valor: return \"JornadaCompleta\"\n",
    "    if \"part-time\" in valor: return \"MediaJornada\"\n",
    "    if \"freelancer\" in valor or \"contractor\" in valor: return \"Autonomo\"\n",
    "    if \"student\" in valor: return \"Estudiante\"\n",
    "    if \"not employed\" in valor: return \"Desempleado\"\n",
    "    if \"retired\" in valor: return \"Jubilado\"\n",
    "    return \"Otro\"\n",
    "\n",
    "df[\"TipoEmpleo\"] = df[\"TipoEmpleo\"].apply(simplificar_tipo_empleo)\n",
    "\n",
    "df[\"TrabajoRemoto\"] = df[\"TrabajoRemoto\"].replace({\n",
    "    \"Remote\": \"Remoto\",\n",
    "    \"In-person\": \"Presencial\",\n",
    "    \"Hybrid (some remote, some in-person)\": \"Hibrido\"\n",
    "})\n",
    "\n",
    "def mapear_rol(rol_raw):\n",
    "    mapa_roles = {\n",
    "        \"Developer, full-stack\": \"Developer_Full_Stack\",\n",
    "        \"Developer, back-end\": \"Developer_Back_End\",\n",
    "        \"Developer, front-end\": \"Developer_Front_End\",\n",
    "        \"Developer, desktop or enterprise applications\": \"Developer_Desktop_Enterprise\",\n",
    "        \"Developer, mobile\": \"Developer_Mobile\",\n",
    "        \"Developer, embedded applications or devices\": \"Developer_Embedded_Devices\",\n",
    "        \"Data engineer\": \"Data_Engineer\",\n",
    "        \"Engineering manager\": \"Engineering_Manager\",\n",
    "        \"DevOps specialist\": \"DevOps_Specialist\",\n",
    "        \"Data scientist or machine learning specialist\": \"Data_Scientist_ML\",\n",
    "        \"Research & Development role\": \"Investigación_Desarrollo\",\n",
    "        \"Academic researcher\": \"Investigador_Academico\",\n",
    "        \"Cloud infrastructure engineer\": \"Cloud_Infrastructure_Engineer\",\n",
    "        \"Senior Executive (C-Suite, VP, etc.)\": \"Senior_Executive\",\n",
    "    }\n",
    "\n",
    "    if pd.isna(rol_raw):\n",
    "        return \"Otro_rol\"\n",
    "\n",
    "    primer_rol = rol_raw.split(\";\")[0].strip()\n",
    "\n",
    "    return mapa_roles.get(primer_rol, \"Otro_rol\")\n",
    "\n",
    "df[\"Rol\"] = df[\"Rol\"].apply(mapear_rol)\n",
    "o\n",
    "def simplificar_nivel(nivel):\n",
    "    if pd.isna(nivel): return None\n",
    "    if \"Bachelor\" in nivel: return \"Grado_universitario\"\n",
    "    if \"Master\" in nivel: return \"Master\"\n",
    "    if \"Professional\" in nivel or \"Ph.D\" in nivel or \"Doctoral\" in nivel: return \"Doctorado\"\n",
    "    if \"Secondary\" in nivel: return \"Secundaria\"\n",
    "    if \"Primary\" in nivel: return \"Primaria\"\n",
    "    if \"Associate\" in nivel: return \"Grado_medio\"\n",
    "    if \"Some college\" in nivel: return \"Universidad_sin_titulo\"\n",
    "    return \"Otro_nivel_educativo\"\n",
    "\n",
    "df[\"NivelEducativo\"] = df[\"NivelEducativo\"].apply(simplificar_nivel)\n",
    "\n",
    "df = df[df[\"SalarioAnual\"] <= 300000]\n"
   ]
  },
  {
   "cell_type": "markdown",
   "id": "f64df78a",
   "metadata": {},
   "source": [
    "**Paso 2: Procesamiento de la columna 'Rol' y 'Pais' y 'Tamano_empresa'**"
   ]
  },
  {
   "cell_type": "code",
   "execution_count": null,
   "id": "a32b4650",
   "metadata": {},
   "outputs": [],
   "source": [
    "df[\"AniosExperiencia\"] = df[\"AniosExperiencia\"].replace({\n",
    "    \"Less than 1 year\": \"0\", \"More than 50 years\": \"51\"\n",
    "})\n",
    "df[\"AniosExperiencia\"] = pd.to_numeric(df[\"AniosExperiencia\"], errors=\"coerce\")\n",
    "df[\"TamanoEmpresa\"] = df[\"TamanoEmpresa\"].replace(\"I don’t know\", pd.NA)"
   ]
  },
  {
   "cell_type": "code",
   "execution_count": null,
   "id": "8186f8f5",
   "metadata": {},
   "outputs": [],
   "source": [
    "df = df.dropna()\n",
    "df = df[df[\"SalarioAnual\"] <= 300000]"
   ]
  },
  {
   "cell_type": "markdown",
   "id": "2d34ca17",
   "metadata": {},
   "source": [
    "**Paso 2: Procesamiento de la columna 'Rol' y 'Pais' y 'Tamano_empresa'**"
   ]
  },
  {
   "cell_type": "code",
   "execution_count": null,
   "id": "da442177",
   "metadata": {},
   "outputs": [],
   "source": [
    "roles_dummies = df[\"Rol\"].str.get_dummies(sep=\";\")\n",
    "top_roles = roles_dummies.sum().sort_values(ascending=False).head(15).index\n",
    "df = pd.concat([df.drop(columns=\"Rol\"), roles_dummies[top_roles]], axis=1)\n",
    "\n",
    "top_paises = df[\"Pais\"].value_counts().head(15).index\n",
    "df[\"Pais\"] = df[\"Pais\"].apply(lambda x: x if x in top_paises else \"Otro_pais\")\n",
    "\n",
    "df = pd.get_dummies(df, columns=[\"Pais\", \"TipoEmpleo\", \"TrabajoRemoto\", \"NivelEducativo\"], prefix='', prefix_sep='')\n",
    "\n",
    "if \"Otro_pais\" in df.columns:\n",
    "    df = df.drop(columns=[\"Otro_pais\"])\n",
    "\n",
    "def traducir_tamano_empresa(x):\n",
    "    traducciones = {\n",
    "        \"Just me - I am a freelancer, sole proprietor, etc.\": \"Freelance\",\n",
    "        \"2 to 9 employees\": \"2-9_empleados\",\n",
    "        \"10 to 19 employees\": \"10-19_empleados\",\n",
    "        \"20 to 99 employees\": \"20-99_empleados\",\n",
    "        \"100 to 499 employees\": \"100-499_empleados\",\n",
    "        \"500 to 999 employees\": \"500-999_empleados\",\n",
    "        \"1,000 to 4,999 employees\": \"1000-4999_empleados\",\n",
    "        \"5,000 to 9,999 employees\": \"5000-9999_empleados\",\n",
    "        \"10,000 or more employees\": \"+10000_empleados\"\n",
    "    }\n",
    "    return traducciones.get(x, x)\n",
    "\n",
    "df[\"TamanoEmpresa\"] = df[\"TamanoEmpresa\"].apply(traducir_tamano_empresa)"
   ]
  },
  {
   "cell_type": "markdown",
   "id": "c4c4b8e8",
   "metadata": {},
   "source": [
    "**Paso 3: Codificación de columnas categóricas**"
   ]
  },
  {
   "cell_type": "code",
   "execution_count": null,
   "id": "f14e3a18",
   "metadata": {},
   "outputs": [],
   "source": [
    "for col in df.select_dtypes(include=\"bool\").columns:\n",
    "    df[col] = df[col].astype(int)"
   ]
  },
  {
   "cell_type": "markdown",
   "id": "ab4859c5",
   "metadata": {},
   "source": [
    "**Paso 4: Limpieza y preparación final**"
   ]
  },
  {
   "cell_type": "code",
   "execution_count": null,
   "id": "578a3487",
   "metadata": {},
   "outputs": [],
   "source": [
    "X = df.drop(columns=\"SalarioAnual\")\n",
    "X.columns = [re.sub(r\"[^a-zA-Z0-9]\", \"_\", col) for col in X.columns]\n",
    "y = df[\"SalarioAnual\"]"
   ]
  },
  {
   "cell_type": "markdown",
   "id": "b88e9b15",
   "metadata": {},
   "source": [
    "**Paso 5: División en train/test**"
   ]
  },
  {
   "cell_type": "code",
   "execution_count": null,
   "id": "8188dd26",
   "metadata": {},
   "outputs": [],
   "source": [
    "X_train, X_test, y_train, y_test = train_test_split(X, y, random_state=42)"
   ]
  },
  {
   "cell_type": "markdown",
   "id": "b9a5ca26",
   "metadata": {},
   "source": [
    "**Paso 6: Definición del grid de hiperparámetros**"
   ]
  },
  {
   "cell_type": "code",
   "execution_count": null,
   "id": "fd11e5c3",
   "metadata": {},
   "outputs": [],
   "source": [
    "param_grid = {\n",
    "    \"iterations\": [800],\n",
    "    \"learning_rate\": [0.03],\n",
    "    \"depth\": [6],\n",
    "    \"l2_leaf_reg\": [3],\n",
    "    \"bagging_temperature\": [0.2]\n",
    "}"
   ]
  },
  {
   "cell_type": "markdown",
   "id": "91ed5765",
   "metadata": {},
   "source": [
    "**Paso 7: GridSearchCV y entrenamiento de CatBoost**"
   ]
  },
  {
   "cell_type": "code",
   "execution_count": null,
   "id": "1663d405",
   "metadata": {},
   "outputs": [],
   "source": [
    "model = CatBoostRegressor(verbose=0, random_state=42)\n",
    "\n",
    "grid = GridSearchCV(\n",
    "    estimator=model,\n",
    "    param_grid=param_grid,\n",
    "    scoring=\"r2\",\n",
    "    cv=3,\n",
    "    verbose=2,\n",
    "    n_jobs=-1\n",
    ")\n",
    "\n",
    "grid.fit(X_train, y_train, cat_features=[\"TamanoEmpresa\"])\n",
    "\n",
    "print(\"Mejor configuración encontrada:\")\n",
    "print(grid.best_params_)"
   ]
  },
  {
   "cell_type": "markdown",
   "id": "43bcc2a7",
   "metadata": {},
   "source": [
    "**Paso 8: Evaluación contra test**"
   ]
  },
  {
   "cell_type": "code",
   "execution_count": null,
   "id": "ccdc937a",
   "metadata": {},
   "outputs": [],
   "source": [
    "mejor_modelo = grid.best_estimator_\n",
    "y_pred = mejor_modelo.predict(X_test)\n",
    "r2 = r2_score(y_test, y_pred)\n",
    "\n",
    "print(f\"R² en test con mejores hiperparámetros: {r2:.4f}\")"
   ]
  },
  {
   "cell_type": "markdown",
   "id": "4c1f2b08",
   "metadata": {},
   "source": [
    "**Paso 9: Guardado de modelo**"
   ]
  },
  {
   "cell_type": "code",
   "execution_count": null,
   "id": "a843e775",
   "metadata": {},
   "outputs": [],
   "source": [
    "columnas_modelo = X.columns.tolist()\n",
    "joblib.dump((mejor_modelo, columnas_modelo), \"model.pkl\")"
   ]
  }
 ],
 "metadata": {},
 "nbformat": 4,
 "nbformat_minor": 5
}
