{
 "cells": [
  {
   "cell_type": "markdown",
   "id": "79282f6e",
   "metadata": {},
   "source": [
    "**Step 0: Libraries**"
   ]
  },
  {
   "cell_type": "code",
   "execution_count": 1,
   "id": "8132dcb3",
   "metadata": {},
   "outputs": [],
   "source": [
    "import pandas as pd\n",
    "import numpy as np\n",
    "import re\n",
    "from sklearn.model_selection import train_test_split, GridSearchCV\n",
    "from sklearn.metrics import r2_score\n",
    "from catboost import CatBoostRegressor\n",
    "import warnings\n",
    "warnings.filterwarnings(\"ignore\")\n",
    "\n",
    "import joblib"
   ]
  },
  {
   "cell_type": "markdown",
   "id": "3fb677a6",
   "metadata": {},
   "source": [
    "**Step 1: Data loading, transformation and cleaning**"
   ]
  },
  {
   "cell_type": "code",
   "execution_count": 2,
   "id": "a7a2455d",
   "metadata": {},
   "outputs": [],
   "source": [
    "# Carga y transformación\n",
    "df = pd.read_csv(\"./data/survey_results_public.csv\", low_memory=False)\n",
    "\n",
    "df = df.rename(columns={\n",
    "    \"Employment\": \"Tipo_empleo\",\n",
    "    \"RemoteWork\": \"Trabajo_remoto\",\n",
    "    \"DevType\": \"Rol\",\n",
    "    \"EdLevel\": \"Nivel_educativo\",\n",
    "    \"YearsCodePro\": \"Anios_experiencia\",\n",
    "    \"Country\": \"Pais\",\n",
    "    \"OrgSize\": \"Tamano_empresa\",\n",
    "    \"ConvertedCompYearly\": \"Salario_anual\"\n",
    "})\n",
    "\n",
    "columnas_a_mantener = ['Tipo_empleo', 'Trabajo_remoto', 'Rol', 'Nivel_educativo', 'Anios_experiencia', 'Pais', 'Tamano_empresa', 'Salario_anual']\n",
    "df = df[columnas_a_mantener]\n"
   ]
  },
  {
   "cell_type": "code",
   "execution_count": 3,
   "id": "4ef74fda",
   "metadata": {},
   "outputs": [],
   "source": [
    "df[\"Anios_experiencia\"] = df[\"Anios_experiencia\"].replace({\n",
    "    \"Less than 1 year\": \"0\", \"More than 50 years\": \"51\"\n",
    "})\n",
    "df[\"Anios_experiencia\"] = pd.to_numeric(df[\"Anios_experiencia\"], errors=\"coerce\")\n",
    "df[\"Tamano_empresa\"] = df[\"Tamano_empresa\"].replace(\"I don’t know\", pd.NA)"
   ]
  },
  {
   "cell_type": "code",
   "execution_count": 4,
   "id": "83d92cce",
   "metadata": {},
   "outputs": [],
   "source": [
    "df = df.dropna()\n",
    "df = df[df[\"Salario_anual\"] <= 300000]"
   ]
  },
  {
   "cell_type": "markdown",
   "id": "cbef897f",
   "metadata": {},
   "source": [
    "**Step 2: Processing the 'Role', 'Country' and 'Company Size' columns**"
   ]
  },
  {
   "cell_type": "code",
   "execution_count": 5,
   "id": "6094ab3b",
   "metadata": {},
   "outputs": [],
   "source": [
    "# Rol\n",
    "roles_dummies = df[\"Rol\"].str.get_dummies(sep=\";\")\n",
    "top_roles = roles_dummies.sum().sort_values(ascending=False).head(15).index\n",
    "df = pd.concat([df.drop(columns=\"Rol\"), roles_dummies[top_roles]], axis=1)\n",
    "\n",
    "# País\n",
    "top_paises = df[\"Pais\"].value_counts().head(15).index\n",
    "df[\"Pais\"] = df[\"Pais\"].apply(lambda x: x if x in top_paises else \"Otro\")\n",
    "df = pd.get_dummies(df, columns=[\"Pais\"], drop_first=False)\n",
    "if \"Pais_Otro\" in df.columns:\n",
    "    df = df.drop(columns=[\"Pais_Otro\"])\n",
    "\n",
    "# Resto\n",
    "df = pd.get_dummies(df, columns=[\"Tipo_empleo\", \"Trabajo_remoto\", \"Nivel_educativo\"], drop_first=False)\n",
    "\n",
    "orden_empresa = [\n",
    "    \"Just me - I am a freelancer, sole proprietor, etc.\",\n",
    "    \"2 to 9 employees\",\n",
    "    \"10 to 19 employees\",\n",
    "    \"20 to 99 employees\",\n",
    "    \"100 to 499 employees\",\n",
    "    \"500 to 999 employees\",\n",
    "    \"1,000 to 4,999 employees\",\n",
    "    \"5,000 to 9,999 employees\",\n",
    "    \"10,000 or more employees\"\n",
    "]\n",
    "df[\"Tamano_empresa\"] = df[\"Tamano_empresa\"].apply(lambda x: orden_empresa.index(x))"
   ]
  },
  {
   "cell_type": "markdown",
   "id": "a89df792",
   "metadata": {},
   "source": [
    "**Step 3: Categorical feature encoding**"
   ]
  },
  {
   "cell_type": "code",
   "execution_count": 6,
   "id": "e5230b4e",
   "metadata": {},
   "outputs": [],
   "source": [
    "for col in df.columns:\n",
    "    if df[col].dtype == bool:\n",
    "        df[col] = df[col].astype(int)"
   ]
  },
  {
   "cell_type": "markdown",
   "id": "b2a2e5b0",
   "metadata": {},
   "source": [
    "**Step 4: Final cleaning and preparation**"
   ]
  },
  {
   "cell_type": "code",
   "execution_count": 7,
   "id": "41e8671b",
   "metadata": {},
   "outputs": [],
   "source": [
    "# Preparar datos finales\n",
    "X = df.drop(columns=\"Salario_anual\")\n",
    "X.columns = [re.sub(r\"[^a-zA-Z0-9]\", \"_\", col) for col in X.columns]\n",
    "y = df[\"Salario_anual\"]"
   ]
  },
  {
   "cell_type": "markdown",
   "id": "ccfa9223",
   "metadata": {},
   "source": [
    "**Step 5: Train/test split**"
   ]
  },
  {
   "cell_type": "code",
   "execution_count": 8,
   "id": "b0c3429d",
   "metadata": {},
   "outputs": [],
   "source": [
    "X_train, X_test, y_train, y_test = train_test_split(X, y, random_state=42)"
   ]
  },
  {
   "cell_type": "markdown",
   "id": "d6650439",
   "metadata": {},
   "source": [
    "**Step 6: Hyperparameter grid definition**"
   ]
  },
  {
   "cell_type": "code",
   "execution_count": null,
   "id": "b57f460d",
   "metadata": {},
   "outputs": [],
   "source": [
    "param_grid = {\n",
    "    \"iterations\": [800],\n",
    "    \"learning_rate\": [0.03],\n",
    "    \"depth\": [6],\n",
    "    \"l2_leaf_reg\": [3],\n",
    "    \"bagging_temperature\": [0.2]\n",
    "}"
   ]
  },
  {
   "cell_type": "markdown",
   "id": "050f1d81",
   "metadata": {},
   "source": [
    "**Step 7: GridSearchCV and CatBoost training**"
   ]
  },
  {
   "cell_type": "code",
   "execution_count": null,
   "id": "ca4b270d",
   "metadata": {},
   "outputs": [
    {
     "name": "stdout",
     "output_type": "stream",
     "text": [
      "Fitting 3 folds for each of 1 candidates, totalling 3 fits\n",
      "Mejor configuración encontrada:\n",
      "{'bagging_temperature': 0.2, 'depth': 6, 'iterations': 800, 'l2_leaf_reg': 3, 'learning_rate': 0.03}\n"
     ]
    }
   ],
   "source": [
    "model = CatBoostRegressor(verbose=0, random_state=42)\n",
    "\n",
    "grid = GridSearchCV(\n",
    "    estimator=model,\n",
    "    param_grid=param_grid,\n",
    "    scoring=\"r2\",\n",
    "    cv=3,\n",
    "    verbose=2,\n",
    "    n_jobs=-1\n",
    ")\n",
    "\n",
    "grid.fit(X_train, y_train)\n",
    "\n",
    "print(\"Mejor configuración encontrada:\")\n",
    "print(grid.best_params_)\n"
   ]
  },
  {
   "cell_type": "markdown",
   "id": "4fa99e1c",
   "metadata": {},
   "source": [
    "**Step 8: Test evaluation**"
   ]
  },
  {
   "cell_type": "code",
   "execution_count": 10,
   "id": "c82e4428",
   "metadata": {},
   "outputs": [
    {
     "name": "stdout",
     "output_type": "stream",
     "text": [
      "R² en test con mejores hiperparámetros: 0.6001\n"
     ]
    }
   ],
   "source": [
    "# Evaluación en test\n",
    "mejor_modelo = grid.best_estimator_\n",
    "y_pred = mejor_modelo.predict(X_test)\n",
    "r2 = r2_score(y_test, y_pred)\n",
    "\n",
    "print(f\"R² en test con mejores hiperparámetros: {r2:.4f}\")\n"
   ]
  },
  {
   "cell_type": "markdown",
   "id": "d28aa205",
   "metadata": {},
   "source": [
    "**Step 9: Model saving**"
   ]
  },
  {
   "cell_type": "code",
   "execution_count": 11,
   "id": "ded3e364",
   "metadata": {},
   "outputs": [
    {
     "data": {
      "text/plain": [
       "['model.pkl']"
      ]
     },
     "execution_count": 11,
     "metadata": {},
     "output_type": "execute_result"
    }
   ],
   "source": [
    "joblib.dump(mejor_modelo, \"model.pkl\")"
   ]
  }
 ],
 "metadata": {
  "kernelspec": {
   "display_name": "Python 3",
   "language": "python",
   "name": "python3"
  },
  "language_info": {
   "codemirror_mode": {
    "name": "ipython",
    "version": 3
   },
   "file_extension": ".py",
   "mimetype": "text/x-python",
   "name": "python",
   "nbconvert_exporter": "python",
   "pygments_lexer": "ipython3",
   "version": "3.12.4"
  }
 },
 "nbformat": 4,
 "nbformat_minor": 5
}
