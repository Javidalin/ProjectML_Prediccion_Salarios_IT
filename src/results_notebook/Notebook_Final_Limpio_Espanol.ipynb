{
 "cells": [
  {
   "cell_type": "markdown",
   "id": "79282f6e",
   "metadata": {},
   "source": [
    "**Paso 0: Librerias**"
   ]
  },
  {
   "cell_type": "code",
   "execution_count": 1,
   "id": "8132dcb3",
   "metadata": {},
   "outputs": [],
   "source": [
    "import pandas as pd\n",
    "import numpy as np\n",
    "import re\n",
    "from sklearn.model_selection import train_test_split, GridSearchCV\n",
    "from sklearn.metrics import r2_score\n",
    "from catboost import CatBoostRegressor\n",
    "import warnings\n",
    "warnings.filterwarnings(\"ignore\")\n",
    "\n",
    "import joblib"
   ]
  },
  {
   "cell_type": "markdown",
   "id": "4e17d8ac",
   "metadata": {},
   "source": [
    "**Paso 1: Limpieza avanzada y estandarización de variables**"
   ]
  },
  {
   "cell_type": "code",
   "execution_count": 2,
   "id": "db6b20ec",
   "metadata": {},
   "outputs": [],
   "source": [
    "# 📌 LIMPIEZA Y RENOMBRADO DE VARIABLES CLAVE\n",
    "df = pd.read_csv(r\"C:\\Users\\javid\\OneDrive\\Escritorio\\Javidev\\ProjectML_Prediccion_Salarios_IT\\data\\survey_results_public.csv\", low_memory=False)\n",
    "\n",
    "# Renombramos las columnas más importantes\n",
    "df = df.rename(columns={\n",
    "    \"Employment\": \"Tipo_empleo\",\n",
    "    \"RemoteWork\": \"Trabajo_remoto\",\n",
    "    \"DevType\": \"Rol\",\n",
    "    \"EdLevel\": \"Nivel_educativo\",\n",
    "    \"YearsCodePro\": \"Anios_experiencia\",\n",
    "    \"Country\": \"Pais\",\n",
    "    \"OrgSize\": \"Tamano_empresa\",\n",
    "    \"ConvertedCompYearly\": \"Salario_anual\"\n",
    "})\n",
    "\n",
    "# Filtramos columnas relevantes\n",
    "columnas_utiles = [\n",
    "    \"Tipo_empleo\", \"Trabajo_remoto\", \"Rol\", \"Nivel_educativo\",\n",
    "    \"Anios_experiencia\", \"Pais\", \"Tamano_empresa\", \"Salario_anual\"\n",
    "]\n",
    "df = df[columnas_utiles]\n",
    "\n",
    "# Limpiamos y transformamos la experiencia profesional\n",
    "df[\"Anios_experiencia\"] = df[\"Anios_experiencia\"].replace({\n",
    "    \"Less than 1 year\": \"0\",\n",
    "    \"More than 50 years\": \"51\"\n",
    "})\n",
    "df[\"Anios_experiencia\"] = pd.to_numeric(df[\"Anios_experiencia\"], errors=\"coerce\")\n",
    "\n",
    "# Agrupamos países poco frecuentes como \"Otro\"\n",
    "top_paises = df[\"Pais\"].value_counts().head(15).index\n",
    "df[\"Pais\"] = df[\"Pais\"].apply(lambda x: x if x in top_paises else \"Otro\")\n",
    "\n",
    "# Convertimos tipo_empleo en categorías resumidas\n",
    "def simplificar_tipo_empleo(valor):\n",
    "    if pd.isna(valor): return None\n",
    "    if \"full-time\" in valor: return \"Jornada completa\"\n",
    "    if \"part-time\" in valor: return \"Media jornada\"\n",
    "    if \"freelancer\" in valor or \"contractor\" in valor: return \"Autonomo\"\n",
    "    if \"student\" in valor: return \"Estudiante\"\n",
    "    if \"not employed\" in valor: return \"Desempleado\"\n",
    "    if \"retired\" in valor: return \"Jubilado\"\n",
    "    return \"Otro\"\n",
    "\n",
    "df[\"Tipo_empleo\"] = df[\"Tipo_empleo\"].apply(simplificar_tipo_empleo)\n",
    "\n",
    "# Simplificamos modalidad de trabajo\n",
    "df[\"Trabajo_remoto\"] = df[\"Trabajo_remoto\"].replace({\n",
    "    \"Remote\": \"Remoto\",\n",
    "    \"In-person\": \"Presencial\",\n",
    "    \"Hybrid (some remote, some in-person)\": \"Hibrido\"\n",
    "})\n",
    "\n",
    "def mapear_roles(rol_raw):\n",
    "    mapa_roles = {\n",
    "        \"Developer, full-stack\": \"Desarrollador Full Stack\",\n",
    "        \"Developer, back-end\": \"Desarrollador Back-End\",\n",
    "        \"Developer, front-end\": \"Desarrollador Front-End\",\n",
    "        \"Developer, desktop or enterprise applications\": \"Desarrollador de Aplicaciones de Escritorio o Empresariales\",\n",
    "        \"Developer, mobile\": \"Desarrollador Mobile\",\n",
    "        \"Developer, embedded applications or devices\": \"Desarrollador de Sistemas Embebidos\",\n",
    "        \"Other (please specify)\": \"Otro\",\n",
    "        \"Data engineer\": \"Ingeniero de Datos\",\n",
    "        \"Engineering manager\": \"Manager de Ingenieria\",\n",
    "        \"DevOps specialist\": \"Especialista DevOps\",\n",
    "        \"Data scientist or machine learning specialist\": \"Cientifico de Datos / Especialista en ML\",\n",
    "        \"Research & Development role\": \"Investigación y Desarrollo\",\n",
    "        \"Academic researcher\": \"Investigador Academico\",\n",
    "        \"Cloud infrastructure engineer\": \"Ingeniero de Infraestructura Cloud\",\n",
    "        \"Senior Executive (C-Suite, VP, etc.)\": \"Directivo / Alta Direccion\"\n",
    "    }\n",
    "\n",
    "    if pd.isna(rol_raw):\n",
    "        return []\n",
    "    \n",
    "    roles = [r.strip() for r in rol_raw.split(\";\")]\n",
    "    roles_mapeados = [mapa_roles.get(r, \"Otro\") for r in roles]\n",
    "    return roles_mapeados\n",
    "\n",
    "df[\"Rol\"] = df[\"Rol\"].apply(mapear_roles)\n",
    "\n",
    "# Simplificamos nivel educativo\n",
    "def simplificar_nivel(nivel):\n",
    "    if pd.isna(nivel): return None\n",
    "    if \"Bachelor\" in nivel: return \"Grado universitario\"\n",
    "    if \"Master\" in nivel: return \"Master\"\n",
    "    if \"Professional\" in nivel or \"Ph.D\" in nivel or \"Doctoral\" in nivel: return \"Doctorado\"\n",
    "    if \"Secondary\" in nivel: return \"Secundaria\"\n",
    "    if \"Primary\" in nivel: return \"Primaria\"\n",
    "    if \"Associate\" in nivel: return \"Grado medio\"\n",
    "    if \"Some college\" in nivel: return \"Universidad sin titulo\"\n",
    "    return \"Otro\"\n",
    "\n",
    "df[\"Nivel_educativo\"] = df[\"Nivel_educativo\"].apply(simplificar_nivel)\n",
    "\n",
    "# Eliminamos filas nulas y salarios excesivos\n",
    "# df = df.dropna()\n",
    "df = df[df[\"Salario_anual\"] <= 300000]\n"
   ]
  },
  {
   "cell_type": "markdown",
   "id": "9701fcb0",
   "metadata": {},
   "source": [
    "**Paso 2: Procesamiento de la columna 'Rol' y 'Pais' y 'Tamano_empresa'**"
   ]
  },
  {
   "cell_type": "code",
   "execution_count": 3,
   "id": "4ef74fda",
   "metadata": {},
   "outputs": [],
   "source": [
    "df[\"Anios_experiencia\"] = df[\"Anios_experiencia\"].replace({\n",
    "    \"Less than 1 year\": \"0\", \"More than 50 years\": \"51\"\n",
    "})\n",
    "df[\"Anios_experiencia\"] = pd.to_numeric(df[\"Anios_experiencia\"], errors=\"coerce\")\n",
    "df[\"Tamano_empresa\"] = df[\"Tamano_empresa\"].replace(\"I don’t know\", pd.NA)"
   ]
  },
  {
   "cell_type": "code",
   "execution_count": 4,
   "id": "83d92cce",
   "metadata": {},
   "outputs": [],
   "source": [
    "df = df.dropna()\n",
    "df = df[df[\"Salario_anual\"] <= 300000]"
   ]
  },
  {
   "cell_type": "markdown",
   "id": "cbef897f",
   "metadata": {},
   "source": [
    "**Paso 2: Procesamiento de la columna 'Rol' y 'Pais' y 'Tamano_empresa'**"
   ]
  },
  {
   "cell_type": "code",
   "execution_count": 5,
   "id": "6094ab3b",
   "metadata": {},
   "outputs": [],
   "source": [
    "# Rol\n",
    "roles_dummies = df[\"Rol\"].str.get_dummies(sep=\";\")\n",
    "top_roles = roles_dummies.sum().sort_values(ascending=False).head(15).index\n",
    "df = pd.concat([df.drop(columns=\"Rol\"), roles_dummies[top_roles]], axis=1)\n",
    "\n",
    "# País\n",
    "top_paises = df[\"Pais\"].value_counts().head(15).index\n",
    "df[\"Pais\"] = df[\"Pais\"].apply(lambda x: x if x in top_paises else \"Otro\")\n",
    "df = pd.get_dummies(df, columns=[\"Pais\"], drop_first=False)\n",
    "if \"Pais_Otro\" in df.columns:\n",
    "    df = df.drop(columns=[\"Pais_Otro\"])\n",
    "\n",
    "# Resto\n",
    "df = pd.get_dummies(df, columns=[\"Tipo_empleo\", \"Trabajo_remoto\", \"Nivel_educativo\"], drop_first=False)\n",
    "\n",
    "orden_empresa = [\n",
    "    \"Just me - I am a freelancer, sole proprietor, etc.\",\n",
    "    \"2 to 9 employees\",\n",
    "    \"10 to 19 employees\",\n",
    "    \"20 to 99 employees\",\n",
    "    \"100 to 499 employees\",\n",
    "    \"500 to 999 employees\",\n",
    "    \"1,000 to 4,999 employees\",\n",
    "    \"5,000 to 9,999 employees\",\n",
    "    \"10,000 or more employees\"\n",
    "]\n",
    "df[\"Tamano_empresa\"] = df[\"Tamano_empresa\"].apply(lambda x: orden_empresa.index(x))"
   ]
  },
  {
   "cell_type": "markdown",
   "id": "a89df792",
   "metadata": {},
   "source": [
    "**Paso 3: Codificación de columnas categóricas**"
   ]
  },
  {
   "cell_type": "code",
   "execution_count": 6,
   "id": "e5230b4e",
   "metadata": {},
   "outputs": [],
   "source": [
    "for col in df.columns:\n",
    "    if df[col].dtype == bool:\n",
    "        df[col] = df[col].astype(int)"
   ]
  },
  {
   "cell_type": "markdown",
   "id": "b2a2e5b0",
   "metadata": {},
   "source": [
    "**Paso 4: Limpieza y preparación final**"
   ]
  },
  {
   "cell_type": "code",
   "execution_count": 7,
   "id": "41e8671b",
   "metadata": {},
   "outputs": [],
   "source": [
    "# Preparar datos finales\n",
    "X = df.drop(columns=\"Salario_anual\")\n",
    "X.columns = [re.sub(r\"[^a-zA-Z0-9]\", \"_\", col) for col in X.columns]\n",
    "y = df[\"Salario_anual\"]"
   ]
  },
  {
   "cell_type": "markdown",
   "id": "ccfa9223",
   "metadata": {},
   "source": [
    "**Paso 5: División en train/test**"
   ]
  },
  {
   "cell_type": "code",
   "execution_count": 8,
   "id": "b0c3429d",
   "metadata": {},
   "outputs": [],
   "source": [
    "X_train, X_test, y_train, y_test = train_test_split(X, y, random_state=42)"
   ]
  },
  {
   "cell_type": "markdown",
   "id": "d6650439",
   "metadata": {},
   "source": [
    "**Paso 6: Definición del grid de hiperparámetros**"
   ]
  },
  {
   "cell_type": "code",
   "execution_count": 9,
   "id": "b57f460d",
   "metadata": {},
   "outputs": [],
   "source": [
    "param_grid = {\n",
    "    \"iterations\": [800],\n",
    "    \"learning_rate\": [0.03],\n",
    "    \"depth\": [6],\n",
    "    \"l2_leaf_reg\": [3],\n",
    "    \"bagging_temperature\": [0.2]\n",
    "}"
   ]
  },
  {
   "cell_type": "markdown",
   "id": "050f1d81",
   "metadata": {},
   "source": [
    "**Paso 7: GridSearchCV y entrenamiento de CatBoost**"
   ]
  },
  {
   "cell_type": "code",
   "execution_count": 10,
   "id": "ca4b270d",
   "metadata": {},
   "outputs": [
    {
     "name": "stdout",
     "output_type": "stream",
     "text": [
      "Fitting 3 folds for each of 1 candidates, totalling 3 fits\n",
      "Mejor configuración encontrada:\n",
      "{'bagging_temperature': 0.2, 'depth': 6, 'iterations': 800, 'l2_leaf_reg': 3, 'learning_rate': 0.03}\n"
     ]
    }
   ],
   "source": [
    "model = CatBoostRegressor(verbose=0, random_state=42)\n",
    "\n",
    "grid = GridSearchCV(\n",
    "    estimator=model,\n",
    "    param_grid=param_grid,\n",
    "    scoring=\"r2\",\n",
    "    cv=3,\n",
    "    verbose=2,\n",
    "    n_jobs=-1\n",
    ")\n",
    "\n",
    "grid.fit(X_train, y_train)\n",
    "\n",
    "print(\"Mejor configuración encontrada:\")\n",
    "print(grid.best_params_)\n"
   ]
  },
  {
   "cell_type": "markdown",
   "id": "4fa99e1c",
   "metadata": {},
   "source": [
    "**Paso 8: Evaluación contra test**"
   ]
  },
  {
   "cell_type": "code",
   "execution_count": 11,
   "id": "c82e4428",
   "metadata": {},
   "outputs": [
    {
     "name": "stdout",
     "output_type": "stream",
     "text": [
      "R² en test con mejores hiperparámetros: 0.5901\n"
     ]
    }
   ],
   "source": [
    "# Evaluación en test\n",
    "mejor_modelo = grid.best_estimator_\n",
    "y_pred = mejor_modelo.predict(X_test)\n",
    "r2 = r2_score(y_test, y_pred)\n",
    "\n",
    "print(f\"R² en test con mejores hiperparámetros: {r2:.4f}\")\n"
   ]
  },
  {
   "cell_type": "markdown",
   "id": "d28aa205",
   "metadata": {},
   "source": [
    "**Paso 9: Guardado de modelo**"
   ]
  },
  {
   "cell_type": "code",
   "execution_count": 12,
   "id": "ded3e364",
   "metadata": {},
   "outputs": [
    {
     "data": {
      "text/plain": [
       "['model.pkl']"
      ]
     },
     "execution_count": 12,
     "metadata": {},
     "output_type": "execute_result"
    }
   ],
   "source": [
    "joblib.dump(mejor_modelo, \"model.pkl\")"
   ]
  },
  {
   "cell_type": "code",
   "execution_count": 14,
   "id": "2b277e21",
   "metadata": {},
   "outputs": [
    {
     "data": {
      "text/plain": [
       "['Anios_experiencia',\n",
       " 'Tamano_empresa',\n",
       " '__Desarrollador_Full_Stack__',\n",
       " '__Desarrollador_Back_End__',\n",
       " '__Otro__',\n",
       " '__Desarrollador_Front_End__',\n",
       " '__Desarrollador_de_Aplicaciones_de_Escritorio_o_Empresariales__',\n",
       " '__Desarrollador_Mobile__',\n",
       " '__Desarrollador_de_Sistemas_Embebidos__',\n",
       " '__Ingeniero_de_Datos__',\n",
       " '__Manager_de_Ingenieria__',\n",
       " '__Especialista_DevOps__',\n",
       " '__Cientifico_de_Datos___Especialista_en_ML__',\n",
       " '__Investigaci_n_y_Desarrollo__',\n",
       " '__Investigador_Academico__',\n",
       " '__Ingeniero_de_Infraestructura_Cloud__',\n",
       " '__Directivo___Alta_Direccion__',\n",
       " 'Pais_Australia',\n",
       " 'Pais_Brazil',\n",
       " 'Pais_Canada',\n",
       " 'Pais_France',\n",
       " 'Pais_Germany',\n",
       " 'Pais_India',\n",
       " 'Pais_Italy',\n",
       " 'Pais_Netherlands',\n",
       " 'Pais_Poland',\n",
       " 'Pais_Spain',\n",
       " 'Pais_Sweden',\n",
       " 'Pais_Ukraine',\n",
       " 'Pais_United_Kingdom_of_Great_Britain_and_Northern_Ireland',\n",
       " 'Pais_United_States_of_America',\n",
       " 'Tipo_empleo_Autonomo',\n",
       " 'Tipo_empleo_Jornada_completa',\n",
       " 'Tipo_empleo_Media_jornada',\n",
       " 'Trabajo_remoto_Hibrido',\n",
       " 'Trabajo_remoto_Presencial',\n",
       " 'Trabajo_remoto_Remoto',\n",
       " 'Nivel_educativo_Doctorado',\n",
       " 'Nivel_educativo_Grado_medio',\n",
       " 'Nivel_educativo_Grado_universitario',\n",
       " 'Nivel_educativo_Master',\n",
       " 'Nivel_educativo_Otro',\n",
       " 'Nivel_educativo_Primaria',\n",
       " 'Nivel_educativo_Secundaria',\n",
       " 'Nivel_educativo_Universidad_sin_titulo']"
      ]
     },
     "execution_count": 14,
     "metadata": {},
     "output_type": "execute_result"
    }
   ],
   "source": [
    "list(X.head().columns)"
   ]
  }
 ],
 "metadata": {
  "kernelspec": {
   "display_name": "Python 3",
   "language": "python",
   "name": "python3"
  },
  "language_info": {
   "codemirror_mode": {
    "name": "ipython",
    "version": 3
   },
   "file_extension": ".py",
   "mimetype": "text/x-python",
   "name": "python",
   "nbconvert_exporter": "python",
   "pygments_lexer": "ipython3",
   "version": "3.12.4"
  }
 },
 "nbformat": 4,
 "nbformat_minor": 5
}
