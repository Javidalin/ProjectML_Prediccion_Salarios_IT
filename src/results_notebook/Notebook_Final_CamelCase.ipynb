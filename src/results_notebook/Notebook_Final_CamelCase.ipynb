{
 "cells": [
  {
   "cell_type": "markdown",
   "id": "79282f6e",
   "metadata": {},
   "source": [
    "**Paso 0: Librerias**"
   ]
  },
  {
   "cell_type": "code",
   "execution_count": 1,
   "id": "8132dcb3",
   "metadata": {},
   "outputs": [],
   "source": [
    "import pandas as pd\n",
    "import numpy as np\n",
    "import re\n",
    "from sklearn.model_selection import train_test_split, GridSearchCV\n",
    "from sklearn.metrics import r2_score\n",
    "from catboost import CatBoostRegressor\n",
    "import warnings\n",
    "warnings.filterwarnings(\"ignore\")\n",
    "\n",
    "import joblib"
   ]
  },
  {
   "cell_type": "markdown",
   "id": "4e17d8ac",
   "metadata": {},
   "source": [
    "**Paso 1: Limpieza avanzada y estandarización de variables**"
   ]
  },
  {
   "cell_type": "code",
   "execution_count": 2,
   "id": "db6b20ec",
   "metadata": {},
   "outputs": [],
   "source": [
    "# 📌 LIMPIEZA Y RENOMBRADO DE VARIABLES CLAVE\n",
    "df = pd.read_csv(r\"C:\\Users\\javid\\OneDrive\\Escritorio\\Javidev\\ProjectML_Prediccion_Salarios_IT\\data\\survey_results_public.csv\", low_memory=False)\n",
    "\n",
    "# Renombramos las columnas más importantes\n",
    "df = df.rename(columns={\n",
    "    \"Employment\": \"Tipo_empleo\",\n",
    "    \"RemoteWork\": \"Trabajo_remoto\",\n",
    "    \"DevType\": \"Rol\",\n",
    "    \"EdLevel\": \"Nivel_educativo\",\n",
    "    \"YearsCodePro\": \"Anios_experiencia\",\n",
    "    \"Country\": \"Pais\",\n",
    "    \"OrgSize\": \"Tamano_empresa\",\n",
    "    \"ConvertedCompYearly\": \"Salario_anual\"\n",
    "})\n",
    "\n",
    "# Filtramos columnas relevantes\n",
    "columnas_utiles = [\n",
    "    \"Tipo_empleo\", \"Trabajo_remoto\", \"Rol\", \"Nivel_educativo\",\n",
    "    \"Anios_experiencia\", \"Pais\", \"Tamano_empresa\", \"Salario_anual\"\n",
    "]\n",
    "df = df[columnas_utiles]\n",
    "\n",
    "# Limpiamos y transformamos la experiencia profesional\n",
    "df[\"Anios_experiencia\"] = df[\"Anios_experiencia\"].replace({\n",
    "    \"Less than 1 year\": \"0\",\n",
    "    \"More than 50 years\": \"51\"\n",
    "})\n",
    "df[\"Anios_experiencia\"] = pd.to_numeric(df[\"Anios_experiencia\"], errors=\"coerce\")\n",
    "\n",
    "# Agrupamos países poco frecuentes como \"Otro\"\n",
    "top_paises = df[\"Pais\"].value_counts().head(15).index\n",
    "df[\"Pais\"] = df[\"Pais\"].apply(lambda x: x if x in top_paises else \"Otro\")\n",
    "\n",
    "# Convertimos tipo_empleo en categorías resumidas\n",
    "def simplificar_tipo_empleo(valor):\n",
    "    if pd.isna(valor): return None\n",
    "    if \"full-time\" in valor: return \"Jornada completa\"\n",
    "    if \"part-time\" in valor: return \"Media jornada\"\n",
    "    if \"freelancer\" in valor or \"contractor\" in valor: return \"Autonomo\"\n",
    "    if \"student\" in valor: return \"Estudiante\"\n",
    "    if \"not employed\" in valor: return \"Desempleado\"\n",
    "    if \"retired\" in valor: return \"Jubilado\"\n",
    "    return \"Otro\"\n",
    "\n",
    "df[\"Tipo_empleo\"] = df[\"Tipo_empleo\"].apply(simplificar_tipo_empleo)\n",
    "\n",
    "# Simplificamos modalidad de trabajo\n",
    "df[\"Trabajo_remoto\"] = df[\"Trabajo_remoto\"].replace({\n",
    "    \"Remote\": \"Remoto\",\n",
    "    \"In-person\": \"Presencial\",\n",
    "    \"Hybrid (some remote, some in-person)\": \"Hibrido\"\n",
    "})\n",
    "\n",
    "def mapear_roles(rol_raw):\n",
    "    mapa_roles = {\n",
    "        \"Developer, full-stack\": \"Developer_Full_Stack\",\n",
    "        \"Developer, back-end\": \"Developer_Back_End\",\n",
    "        \"Developer, front-end\": \"Developoer_Front-End\",\n",
    "        \"Developer, desktop or enterprise applications\": \"Developer_Desktop_Enterprise\",\n",
    "        \"Developer, mobile\": \"Developer_Mobile\",\n",
    "        \"Developer, embedded applications or devices\": \"Developer_Embedded_Devices\",\n",
    "        \"Other (please specify)\": \"Otro_rol\",\n",
    "        \"Data engineer\": \"Data_Engineer\",\n",
    "        \"Engineering manager\": \"Engineering_Manager\",\n",
    "        \"DevOps specialist\": \"DevOps_Specialist\",\n",
    "        \"Data scientist or machine learning specialist\": \"Data_Scientist_ML\",\n",
    "        \"Research & Development role\": \"Investigación_Desarrollo\",\n",
    "        \"Academic researcher\": \"Investigador_Academico\",\n",
    "        \"Cloud infrastructure engineer\": \"Cloud_Infrastructure_Engineer\",\n",
    "        \"Senior Executive (C-Suite, VP, etc.)\": \"Senior_Executive\",\n",
    "    }\n",
    "\n",
    "    if pd.isna(rol_raw):\n",
    "        return []\n",
    "    \n",
    "    roles = [r.strip() for r in rol_raw.split(\";\")]\n",
    "    roles_mapeados = [mapa_roles.get(r, \"Otro\") for r in roles]\n",
    "    return roles_mapeados\n",
    "\n",
    "df[\"Rol\"] = df[\"Rol\"].apply(mapear_roles)\n",
    "\n",
    "# Simplificamos nivel educativo\n",
    "def simplificar_nivel(nivel):\n",
    "    if pd.isna(nivel): return None\n",
    "    if \"Bachelor\" in nivel: return \"Grado universitario\"\n",
    "    if \"Master\" in nivel: return \"Master\"\n",
    "    if \"Professional\" in nivel or \"Ph.D\" in nivel or \"Doctoral\" in nivel: return \"Doctorado\"\n",
    "    if \"Secondary\" in nivel: return \"Secundaria\"\n",
    "    if \"Primary\" in nivel: return \"Primaria\"\n",
    "    if \"Associate\" in nivel: return \"Grado medio\"\n",
    "    if \"Some college\" in nivel: return \"Universidad sin titulo\"\n",
    "    return \"Otro\"\n",
    "\n",
    "df[\"Nivel_educativo\"] = df[\"Nivel_educativo\"].apply(simplificar_nivel)\n",
    "\n",
    "# Eliminamos filas nulas y salarios excesivos\n",
    "# df = df.dropna()\n",
    "df = df[df[\"Salario_anual\"] <= 300000]\n"
   ]
  },
  {
   "cell_type": "markdown",
   "id": "9701fcb0",
   "metadata": {},
   "source": [
    "**Paso 2: Procesamiento de la columna 'Rol' y 'Pais' y 'Tamano_empresa'**"
   ]
  },
  {
   "cell_type": "code",
   "execution_count": 3,
   "id": "4ef74fda",
   "metadata": {},
   "outputs": [],
   "source": [
    "df[\"Anios_experiencia\"] = df[\"Anios_experiencia\"].replace({\n",
    "    \"Less than 1 year\": \"0\", \"More than 50 years\": \"51\"\n",
    "})\n",
    "df[\"Anios_experiencia\"] = pd.to_numeric(df[\"Anios_experiencia\"], errors=\"coerce\")\n",
    "df[\"Tamano_empresa\"] = df[\"Tamano_empresa\"].replace(\"I don’t know\", pd.NA)"
   ]
  },
  {
   "cell_type": "code",
   "execution_count": 4,
   "id": "83d92cce",
   "metadata": {},
   "outputs": [],
   "source": [
    "df = df.dropna()\n",
    "df = df[df[\"Salario_anual\"] <= 300000]"
   ]
  },
  {
   "cell_type": "markdown",
   "id": "cbef897f",
   "metadata": {},
   "source": [
    "**Paso 2: Procesamiento de la columna 'Rol' y 'Pais' y 'Tamano_empresa'**"
   ]
  },
  {
   "cell_type": "code",
   "execution_count": 5,
   "id": "6094ab3b",
   "metadata": {},
   "outputs": [],
   "source": [
    "# Rol\n",
    "roles_dummies = df[\"Rol\"].str.get_dummies(sep=\";\")\n",
    "top_roles = roles_dummies.sum().sort_values(ascending=False).head(15).index\n",
    "df = pd.concat([df.drop(columns=\"Rol\"), roles_dummies[top_roles]], axis=1)\n",
    "\n",
    "# País\n",
    "top_paises = df[\"Pais\"].value_counts().head(15).index\n",
    "df[\"Pais\"] = df[\"Pais\"].apply(lambda x: x if x in top_paises else \"Otro_pais\")\n",
    "df = pd.get_dummies(df, columns=[\"Pais\"])\n",
    "if \"Pais_Otro\" in df.columns:\n",
    "    df = df.drop(columns=[\"Pais_Otro\"])\n",
    "\n",
    "# Resto\n",
    "df = pd.get_dummies(df, columns=[\"Tipo_empleo\", \"Trabajo_remoto\", \"Nivel_educativo\"], drop_first=False)\n",
    "\n",
    "orden_empresa = [\n",
    "    \"Just me - I am a freelancer, sole proprietor, etc.\",\n",
    "    \"2 to 9 employees\",\n",
    "    \"10 to 19 employees\",\n",
    "    \"20 to 99 employees\",\n",
    "    \"100 to 499 employees\",\n",
    "    \"500 to 999 employees\",\n",
    "    \"1,000 to 4,999 employees\",\n",
    "    \"5,000 to 9,999 employees\",\n",
    "    \"10,000 or more employees\"\n",
    "]\n",
    "df[\"Tamano_empresa\"] = df[\"Tamano_empresa\"].apply(lambda x: orden_empresa.index(x))"
   ]
  },
  {
   "cell_type": "markdown",
   "id": "a89df792",
   "metadata": {},
   "source": [
    "**Paso 3: Codificación de columnas categóricas**"
   ]
  },
  {
   "cell_type": "code",
   "execution_count": 6,
   "id": "e5230b4e",
   "metadata": {},
   "outputs": [],
   "source": [
    "for col in df.columns:\n",
    "    if df[col].dtype == bool:\n",
    "        df[col] = df[col].astype(int)"
   ]
  },
  {
   "cell_type": "markdown",
   "id": "b2a2e5b0",
   "metadata": {},
   "source": [
    "**Paso 4: Limpieza y preparación final**"
   ]
  },
  {
   "cell_type": "code",
   "execution_count": 7,
   "id": "41e8671b",
   "metadata": {},
   "outputs": [],
   "source": [
    "# Preparar datos finales\n",
    "X = df.drop(columns=\"Salario_anual\")\n",
    "X.columns = [re.sub(r\"[^a-zA-Z0-9]\", \"_\", col) for col in X.columns]\n",
    "y = df[\"Salario_anual\"]"
   ]
  },
  {
   "cell_type": "code",
   "execution_count": 8,
   "id": "39864ee4",
   "metadata": {},
   "outputs": [
    {
     "ename": "KeyError",
     "evalue": "\"['SalarioAnual'] not found in axis\"",
     "output_type": "error",
     "traceback": [
      "\u001b[1;31m---------------------------------------------------------------------------\u001b[0m",
      "\u001b[1;31mKeyError\u001b[0m                                  Traceback (most recent call last)",
      "Cell \u001b[1;32mIn[8], line 30\u001b[0m\n\u001b[0;32m     21\u001b[0m     \u001b[38;5;28;01mreturn\u001b[39;00m x\n\u001b[0;32m     23\u001b[0m \u001b[38;5;66;03m# df[\"TipoEmpleo\"] = df[\"TipoEmpleo\"].apply(limpiar_texto)\u001b[39;00m\n\u001b[0;32m     24\u001b[0m \u001b[38;5;66;03m# df[\"TrabajoRemoto\"] = df[\"TrabajoRemoto\"].apply(limpiar_texto)\u001b[39;00m\n\u001b[0;32m     25\u001b[0m \u001b[38;5;66;03m# df[\"NivelEducativo\"] = df[\"NivelEducativo\"].apply(limpiar_texto)\u001b[39;00m\n\u001b[1;32m   (...)\u001b[0m\n\u001b[0;32m     28\u001b[0m \n\u001b[0;32m     29\u001b[0m \u001b[38;5;66;03m# Aplicar get_dummies correctamente\u001b[39;00m\n\u001b[1;32m---> 30\u001b[0m X \u001b[38;5;241m=\u001b[39m pd\u001b[38;5;241m.\u001b[39mget_dummies(\u001b[43mdf\u001b[49m\u001b[38;5;241;43m.\u001b[39;49m\u001b[43mdrop\u001b[49m\u001b[43m(\u001b[49m\u001b[43mcolumns\u001b[49m\u001b[38;5;241;43m=\u001b[39;49m\u001b[38;5;124;43m\"\u001b[39;49m\u001b[38;5;124;43mSalarioAnual\u001b[39;49m\u001b[38;5;124;43m\"\u001b[39;49m\u001b[43m)\u001b[49m, columns\u001b[38;5;241m=\u001b[39m[\u001b[38;5;124m\"\u001b[39m\u001b[38;5;124mTipoEmpleo\u001b[39m\u001b[38;5;124m\"\u001b[39m, \u001b[38;5;124m\"\u001b[39m\u001b[38;5;124mTrabajoRemoto\u001b[39m\u001b[38;5;124m\"\u001b[39m, \u001b[38;5;124m\"\u001b[39m\u001b[38;5;124mNivelEducativo\u001b[39m\u001b[38;5;124m\"\u001b[39m, \u001b[38;5;124m\"\u001b[39m\u001b[38;5;124mPais\u001b[39m\u001b[38;5;124m\"\u001b[39m], prefix_sep\u001b[38;5;241m=\u001b[39m\u001b[38;5;124m\"\u001b[39m\u001b[38;5;124m\"\u001b[39m, dtype\u001b[38;5;241m=\u001b[39m\u001b[38;5;28mint\u001b[39m)\n\u001b[0;32m     32\u001b[0m \u001b[38;5;66;03m# Explode roles y aplicar get_dummies a Rol\u001b[39;00m\n\u001b[0;32m     33\u001b[0m roles_exploded \u001b[38;5;241m=\u001b[39m df\u001b[38;5;241m.\u001b[39mexplode(\u001b[38;5;124m\"\u001b[39m\u001b[38;5;124mRol\u001b[39m\u001b[38;5;124m\"\u001b[39m)\n",
      "File \u001b[1;32mc:\\Users\\javid\\AppData\\Local\\Programs\\Python\\Python312\\Lib\\site-packages\\pandas\\core\\frame.py:5581\u001b[0m, in \u001b[0;36mDataFrame.drop\u001b[1;34m(self, labels, axis, index, columns, level, inplace, errors)\u001b[0m\n\u001b[0;32m   5433\u001b[0m \u001b[38;5;28;01mdef\u001b[39;00m \u001b[38;5;21mdrop\u001b[39m(\n\u001b[0;32m   5434\u001b[0m     \u001b[38;5;28mself\u001b[39m,\n\u001b[0;32m   5435\u001b[0m     labels: IndexLabel \u001b[38;5;241m|\u001b[39m \u001b[38;5;28;01mNone\u001b[39;00m \u001b[38;5;241m=\u001b[39m \u001b[38;5;28;01mNone\u001b[39;00m,\n\u001b[1;32m   (...)\u001b[0m\n\u001b[0;32m   5442\u001b[0m     errors: IgnoreRaise \u001b[38;5;241m=\u001b[39m \u001b[38;5;124m\"\u001b[39m\u001b[38;5;124mraise\u001b[39m\u001b[38;5;124m\"\u001b[39m,\n\u001b[0;32m   5443\u001b[0m ) \u001b[38;5;241m-\u001b[39m\u001b[38;5;241m>\u001b[39m DataFrame \u001b[38;5;241m|\u001b[39m \u001b[38;5;28;01mNone\u001b[39;00m:\n\u001b[0;32m   5444\u001b[0m \u001b[38;5;250m    \u001b[39m\u001b[38;5;124;03m\"\"\"\u001b[39;00m\n\u001b[0;32m   5445\u001b[0m \u001b[38;5;124;03m    Drop specified labels from rows or columns.\u001b[39;00m\n\u001b[0;32m   5446\u001b[0m \n\u001b[1;32m   (...)\u001b[0m\n\u001b[0;32m   5579\u001b[0m \u001b[38;5;124;03m            weight  1.0     0.8\u001b[39;00m\n\u001b[0;32m   5580\u001b[0m \u001b[38;5;124;03m    \"\"\"\u001b[39;00m\n\u001b[1;32m-> 5581\u001b[0m     \u001b[38;5;28;01mreturn\u001b[39;00m \u001b[38;5;28;43msuper\u001b[39;49m\u001b[43m(\u001b[49m\u001b[43m)\u001b[49m\u001b[38;5;241;43m.\u001b[39;49m\u001b[43mdrop\u001b[49m\u001b[43m(\u001b[49m\n\u001b[0;32m   5582\u001b[0m \u001b[43m        \u001b[49m\u001b[43mlabels\u001b[49m\u001b[38;5;241;43m=\u001b[39;49m\u001b[43mlabels\u001b[49m\u001b[43m,\u001b[49m\n\u001b[0;32m   5583\u001b[0m \u001b[43m        \u001b[49m\u001b[43maxis\u001b[49m\u001b[38;5;241;43m=\u001b[39;49m\u001b[43maxis\u001b[49m\u001b[43m,\u001b[49m\n\u001b[0;32m   5584\u001b[0m \u001b[43m        \u001b[49m\u001b[43mindex\u001b[49m\u001b[38;5;241;43m=\u001b[39;49m\u001b[43mindex\u001b[49m\u001b[43m,\u001b[49m\n\u001b[0;32m   5585\u001b[0m \u001b[43m        \u001b[49m\u001b[43mcolumns\u001b[49m\u001b[38;5;241;43m=\u001b[39;49m\u001b[43mcolumns\u001b[49m\u001b[43m,\u001b[49m\n\u001b[0;32m   5586\u001b[0m \u001b[43m        \u001b[49m\u001b[43mlevel\u001b[49m\u001b[38;5;241;43m=\u001b[39;49m\u001b[43mlevel\u001b[49m\u001b[43m,\u001b[49m\n\u001b[0;32m   5587\u001b[0m \u001b[43m        \u001b[49m\u001b[43minplace\u001b[49m\u001b[38;5;241;43m=\u001b[39;49m\u001b[43minplace\u001b[49m\u001b[43m,\u001b[49m\n\u001b[0;32m   5588\u001b[0m \u001b[43m        \u001b[49m\u001b[43merrors\u001b[49m\u001b[38;5;241;43m=\u001b[39;49m\u001b[43merrors\u001b[49m\u001b[43m,\u001b[49m\n\u001b[0;32m   5589\u001b[0m \u001b[43m    \u001b[49m\u001b[43m)\u001b[49m\n",
      "File \u001b[1;32mc:\\Users\\javid\\AppData\\Local\\Programs\\Python\\Python312\\Lib\\site-packages\\pandas\\core\\generic.py:4788\u001b[0m, in \u001b[0;36mNDFrame.drop\u001b[1;34m(self, labels, axis, index, columns, level, inplace, errors)\u001b[0m\n\u001b[0;32m   4786\u001b[0m \u001b[38;5;28;01mfor\u001b[39;00m axis, labels \u001b[38;5;129;01min\u001b[39;00m axes\u001b[38;5;241m.\u001b[39mitems():\n\u001b[0;32m   4787\u001b[0m     \u001b[38;5;28;01mif\u001b[39;00m labels \u001b[38;5;129;01mis\u001b[39;00m \u001b[38;5;129;01mnot\u001b[39;00m \u001b[38;5;28;01mNone\u001b[39;00m:\n\u001b[1;32m-> 4788\u001b[0m         obj \u001b[38;5;241m=\u001b[39m \u001b[43mobj\u001b[49m\u001b[38;5;241;43m.\u001b[39;49m\u001b[43m_drop_axis\u001b[49m\u001b[43m(\u001b[49m\u001b[43mlabels\u001b[49m\u001b[43m,\u001b[49m\u001b[43m \u001b[49m\u001b[43maxis\u001b[49m\u001b[43m,\u001b[49m\u001b[43m \u001b[49m\u001b[43mlevel\u001b[49m\u001b[38;5;241;43m=\u001b[39;49m\u001b[43mlevel\u001b[49m\u001b[43m,\u001b[49m\u001b[43m \u001b[49m\u001b[43merrors\u001b[49m\u001b[38;5;241;43m=\u001b[39;49m\u001b[43merrors\u001b[49m\u001b[43m)\u001b[49m\n\u001b[0;32m   4790\u001b[0m \u001b[38;5;28;01mif\u001b[39;00m inplace:\n\u001b[0;32m   4791\u001b[0m     \u001b[38;5;28mself\u001b[39m\u001b[38;5;241m.\u001b[39m_update_inplace(obj)\n",
      "File \u001b[1;32mc:\\Users\\javid\\AppData\\Local\\Programs\\Python\\Python312\\Lib\\site-packages\\pandas\\core\\generic.py:4830\u001b[0m, in \u001b[0;36mNDFrame._drop_axis\u001b[1;34m(self, labels, axis, level, errors, only_slice)\u001b[0m\n\u001b[0;32m   4828\u001b[0m         new_axis \u001b[38;5;241m=\u001b[39m axis\u001b[38;5;241m.\u001b[39mdrop(labels, level\u001b[38;5;241m=\u001b[39mlevel, errors\u001b[38;5;241m=\u001b[39merrors)\n\u001b[0;32m   4829\u001b[0m     \u001b[38;5;28;01melse\u001b[39;00m:\n\u001b[1;32m-> 4830\u001b[0m         new_axis \u001b[38;5;241m=\u001b[39m \u001b[43maxis\u001b[49m\u001b[38;5;241;43m.\u001b[39;49m\u001b[43mdrop\u001b[49m\u001b[43m(\u001b[49m\u001b[43mlabels\u001b[49m\u001b[43m,\u001b[49m\u001b[43m \u001b[49m\u001b[43merrors\u001b[49m\u001b[38;5;241;43m=\u001b[39;49m\u001b[43merrors\u001b[49m\u001b[43m)\u001b[49m\n\u001b[0;32m   4831\u001b[0m     indexer \u001b[38;5;241m=\u001b[39m axis\u001b[38;5;241m.\u001b[39mget_indexer(new_axis)\n\u001b[0;32m   4833\u001b[0m \u001b[38;5;66;03m# Case for non-unique axis\u001b[39;00m\n\u001b[0;32m   4834\u001b[0m \u001b[38;5;28;01melse\u001b[39;00m:\n",
      "File \u001b[1;32mc:\\Users\\javid\\AppData\\Local\\Programs\\Python\\Python312\\Lib\\site-packages\\pandas\\core\\indexes\\base.py:7070\u001b[0m, in \u001b[0;36mIndex.drop\u001b[1;34m(self, labels, errors)\u001b[0m\n\u001b[0;32m   7068\u001b[0m \u001b[38;5;28;01mif\u001b[39;00m mask\u001b[38;5;241m.\u001b[39many():\n\u001b[0;32m   7069\u001b[0m     \u001b[38;5;28;01mif\u001b[39;00m errors \u001b[38;5;241m!=\u001b[39m \u001b[38;5;124m\"\u001b[39m\u001b[38;5;124mignore\u001b[39m\u001b[38;5;124m\"\u001b[39m:\n\u001b[1;32m-> 7070\u001b[0m         \u001b[38;5;28;01mraise\u001b[39;00m \u001b[38;5;167;01mKeyError\u001b[39;00m(\u001b[38;5;124mf\u001b[39m\u001b[38;5;124m\"\u001b[39m\u001b[38;5;132;01m{\u001b[39;00mlabels[mask]\u001b[38;5;241m.\u001b[39mtolist()\u001b[38;5;132;01m}\u001b[39;00m\u001b[38;5;124m not found in axis\u001b[39m\u001b[38;5;124m\"\u001b[39m)\n\u001b[0;32m   7071\u001b[0m     indexer \u001b[38;5;241m=\u001b[39m indexer[\u001b[38;5;241m~\u001b[39mmask]\n\u001b[0;32m   7072\u001b[0m \u001b[38;5;28;01mreturn\u001b[39;00m \u001b[38;5;28mself\u001b[39m\u001b[38;5;241m.\u001b[39mdelete(indexer)\n",
      "\u001b[1;31mKeyError\u001b[0m: \"['SalarioAnual'] not found in axis\""
     ]
    }
   ],
   "source": [
    "# 📌 Sincronizar nombres en CamelCase para compatibilidad perfecta\n",
    "\n",
    "# Renombrar columnas principales\n",
    "df = df.rename(columns={\n",
    "    \"tipo_empleo\": \"TipoEmpleo\",\n",
    "    \"trabajo_remoto\": \"TrabajoRemoto\",\n",
    "    \"nivel_educativo\": \"NivelEducativo\",\n",
    "    \"pais\": \"Pais\",\n",
    "    \"anios_experiencia\": \"AniosExperiencia\",\n",
    "    \"tamano_empresa\": \"TamanoEmpresa\",\n",
    "    \"salario_anual\": \"SalarioAnual\",\n",
    "    \"rol\": \"Rol\"\n",
    "})\n",
    "\n",
    "# Limpiar textos internos\n",
    "def limpiar_texto(x):\n",
    "    if isinstance(x, str):\n",
    "        x = x.strip()\n",
    "        x = x.replace(\"á\", \"a\").replace(\"é\", \"e\").replace(\"í\", \"i\").replace(\"ó\", \"o\").replace(\"ú\", \"u\").replace(\"ñ\", \"n\")\n",
    "        return x\n",
    "    return x\n",
    "\n",
    "# df[\"TipoEmpleo\"] = df[\"TipoEmpleo\"].apply(limpiar_texto)\n",
    "# df[\"TrabajoRemoto\"] = df[\"TrabajoRemoto\"].apply(limpiar_texto)\n",
    "# df[\"NivelEducativo\"] = df[\"NivelEducativo\"].apply(limpiar_texto)\n",
    "# df[\"Pais\"] = df[\"Pais\"].apply(limpiar_texto)\n",
    "# df[\"Rol\"] = df[\"Rol\"].apply(lambda roles: [limpiar_texto(r) for r in roles] if isinstance(roles, list) else [])\n",
    "\n",
    "# Aplicar get_dummies correctamente\n",
    "X = pd.get_dummies(df.drop(columns=\"SalarioAnual\"), columns=[\"TipoEmpleo\", \"TrabajoRemoto\", \"NivelEducativo\", \"Pais\"], prefix_sep=\"\", dtype=int)\n",
    "\n",
    "# Explode roles y aplicar get_dummies a Rol\n",
    "roles_exploded = df.explode(\"Rol\")\n",
    "roles_dummies = pd.get_dummies(roles_exploded[\"Rol\"], prefix=\"\", prefix_sep=\"\", dtype=int)\n",
    "roles_sumados = roles_dummies.groupby(level=0).sum()\n",
    "X = X.join(roles_sumados)\n",
    "\n",
    "y = df[\"SalarioAnual\"]\n"
   ]
  },
  {
   "cell_type": "markdown",
   "id": "ccfa9223",
   "metadata": {},
   "source": [
    "**Paso 5: División en train/test**"
   ]
  },
  {
   "cell_type": "code",
   "execution_count": null,
   "id": "b0c3429d",
   "metadata": {},
   "outputs": [],
   "source": [
    "X_train, X_test, y_train, y_test = train_test_split(X, y, random_state=42)"
   ]
  },
  {
   "cell_type": "markdown",
   "id": "d6650439",
   "metadata": {},
   "source": [
    "**Paso 6: Definición del grid de hiperparámetros**"
   ]
  },
  {
   "cell_type": "code",
   "execution_count": null,
   "id": "b57f460d",
   "metadata": {},
   "outputs": [],
   "source": [
    "param_grid = {\n",
    "    \"iterations\": [800],\n",
    "    \"learning_rate\": [0.03],\n",
    "    \"depth\": [6],\n",
    "    \"l2_leaf_reg\": [3],\n",
    "    \"bagging_temperature\": [0.2]\n",
    "}"
   ]
  },
  {
   "cell_type": "markdown",
   "id": "050f1d81",
   "metadata": {},
   "source": [
    "**Paso 7: GridSearchCV y entrenamiento de CatBoost**"
   ]
  },
  {
   "cell_type": "code",
   "execution_count": null,
   "id": "ca4b270d",
   "metadata": {},
   "outputs": [
    {
     "name": "stdout",
     "output_type": "stream",
     "text": [
      "Fitting 3 folds for each of 1 candidates, totalling 3 fits\n",
      "Mejor configuración encontrada:\n",
      "{'bagging_temperature': 0.2, 'depth': 6, 'iterations': 800, 'l2_leaf_reg': 3, 'learning_rate': 0.03}\n"
     ]
    }
   ],
   "source": [
    "model = CatBoostRegressor(verbose=0, random_state=42)\n",
    "\n",
    "grid = GridSearchCV(\n",
    "    estimator=model,\n",
    "    param_grid=param_grid,\n",
    "    scoring=\"r2\",\n",
    "    cv=3,\n",
    "    verbose=2,\n",
    "    n_jobs=-1\n",
    ")\n",
    "\n",
    "grid.fit(X_train, y_train)\n",
    "\n",
    "print(\"Mejor configuración encontrada:\")\n",
    "print(grid.best_params_)\n"
   ]
  },
  {
   "cell_type": "markdown",
   "id": "4fa99e1c",
   "metadata": {},
   "source": [
    "**Paso 8: Evaluación contra test**"
   ]
  },
  {
   "cell_type": "code",
   "execution_count": null,
   "id": "c82e4428",
   "metadata": {},
   "outputs": [
    {
     "name": "stdout",
     "output_type": "stream",
     "text": [
      "R² en test con mejores hiperparámetros: 0.5946\n"
     ]
    }
   ],
   "source": [
    "# Evaluación en test\n",
    "mejor_modelo = grid.best_estimator_\n",
    "y_pred = mejor_modelo.predict(X_test)\n",
    "r2 = r2_score(y_test, y_pred)\n",
    "\n",
    "print(f\"R² en test con mejores hiperparámetros: {r2:.4f}\")\n"
   ]
  },
  {
   "cell_type": "markdown",
   "id": "d28aa205",
   "metadata": {},
   "source": [
    "**Paso 9: Guardado de modelo**"
   ]
  },
  {
   "cell_type": "code",
   "execution_count": null,
   "id": "ded3e364",
   "metadata": {},
   "outputs": [
    {
     "data": {
      "text/plain": [
       "['model.pkl']"
      ]
     },
     "execution_count": 12,
     "metadata": {},
     "output_type": "execute_result"
    }
   ],
   "source": [
    "columnas_modelo = X.columns.tolist()\n",
    "joblib.dump((mejor_modelo, columnas_modelo), \"model.pkl\")"
   ]
  },
  {
   "cell_type": "code",
   "execution_count": null,
   "id": "2b277e21",
   "metadata": {},
   "outputs": [
    {
     "data": {
      "text/plain": [
       "['Anios_experiencia',\n",
       " 'Tamano_empresa',\n",
       " '__Developer_Full_Stack__',\n",
       " '__Developer_Back_End__',\n",
       " '__Otro__',\n",
       " '__Developoer_Front_End__',\n",
       " '__Developer_Desktop_Enterprise__',\n",
       " '__Developer_Mobile__',\n",
       " '__Developer_Embedded_Devices__',\n",
       " '__Data_Engineer__',\n",
       " '__Engineering_Manager__',\n",
       " '__DevOps_Specialist__',\n",
       " '__Data_Scientist_ML__',\n",
       " '__Investigaci_n_Desarrollo__',\n",
       " '__Investigador_Academico__',\n",
       " '__Cloud_Infrastructure_Engineer__',\n",
       " '__Senior_Executive__',\n",
       " 'Pais_Australia',\n",
       " 'Pais_Brazil',\n",
       " 'Pais_Canada',\n",
       " 'Pais_France',\n",
       " 'Pais_Germany',\n",
       " 'Pais_India',\n",
       " 'Pais_Italy',\n",
       " 'Pais_Netherlands',\n",
       " 'Pais_Otro',\n",
       " 'Pais_Otro_pais',\n",
       " 'Pais_Poland',\n",
       " 'Pais_Spain',\n",
       " 'Pais_Sweden',\n",
       " 'Pais_Ukraine',\n",
       " 'Pais_United_Kingdom_of_Great_Britain_and_Northern_Ireland',\n",
       " 'Pais_United_States_of_America',\n",
       " 'Tipo_empleo_Autonomo',\n",
       " 'Tipo_empleo_Jornada_completa',\n",
       " 'Tipo_empleo_Media_jornada',\n",
       " 'Trabajo_remoto_Hibrido',\n",
       " 'Trabajo_remoto_Presencial',\n",
       " 'Trabajo_remoto_Remoto',\n",
       " 'Nivel_educativo_Doctorado',\n",
       " 'Nivel_educativo_Grado_medio',\n",
       " 'Nivel_educativo_Grado_universitario',\n",
       " 'Nivel_educativo_Master',\n",
       " 'Nivel_educativo_Otro',\n",
       " 'Nivel_educativo_Primaria',\n",
       " 'Nivel_educativo_Secundaria',\n",
       " 'Nivel_educativo_Universidad_sin_titulo']"
      ]
     },
     "execution_count": 13,
     "metadata": {},
     "output_type": "execute_result"
    }
   ],
   "source": [
    "list(X.head().columns)"
   ]
  }
 ],
 "metadata": {
  "kernelspec": {
   "display_name": "Python 3",
   "language": "python",
   "name": "python3"
  },
  "language_info": {
   "codemirror_mode": {
    "name": "ipython",
    "version": 3
   },
   "file_extension": ".py",
   "mimetype": "text/x-python",
   "name": "python",
   "nbconvert_exporter": "python",
   "pygments_lexer": "ipython3",
   "version": "3.12.4"
  }
 },
 "nbformat": 4,
 "nbformat_minor": 5
}
