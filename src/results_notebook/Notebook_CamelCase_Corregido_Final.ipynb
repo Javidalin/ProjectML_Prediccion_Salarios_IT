{
 "cells": [
  {
   "cell_type": "markdown",
   "id": "79282f6e",
   "metadata": {},
   "source": [
    "**Paso 0: Librerias**"
   ]
  },
  {
   "cell_type": "code",
   "execution_count": 1,
   "id": "8132dcb3",
   "metadata": {},
   "outputs": [],
   "source": [
    "import pandas as pd\n",
    "import numpy as np\n",
    "import re\n",
    "from sklearn.model_selection import train_test_split, GridSearchCV\n",
    "from sklearn.metrics import r2_score\n",
    "from catboost import CatBoostRegressor\n",
    "import warnings\n",
    "warnings.filterwarnings(\"ignore\")\n",
    "\n",
    "import joblib"
   ]
  },
  {
   "cell_type": "markdown",
   "id": "4e17d8ac",
   "metadata": {},
   "source": [
    "**Paso 1: Limpieza avanzada y estandarización de variables**"
   ]
  },
  {
   "cell_type": "code",
   "execution_count": 2,
   "id": "db6b20ec",
   "metadata": {},
   "outputs": [],
   "source": [
    "df = pd.read_csv(r\"C:\\Users\\javid\\OneDrive\\Escritorio\\Javidev\\ProjectML_Prediccion_Salarios_IT\\data\\survey_results_public.csv\", low_memory=False)\n",
    "\n",
    "# Renombramos las columnas más importantes\n",
    "df = df.rename(columns={\n",
    "    \"Employment\": \"TipoEmpleo\",\n",
    "    \"RemoteWork\": \"TrabajoRemoto\",\n",
    "    \"DevType\": \"Rol\",\n",
    "    \"EdLevel\": \"NivelEducativo\",\n",
    "    \"YearsCodePro\": \"AniosExperiencia\",\n",
    "    \"Country\": \"Pais\",\n",
    "    \"OrgSize\": \"TamanoEmpresa\",\n",
    "    \"ConvertedCompYearly\": \"SalarioAnual\"\n",
    "})\n",
    "\n",
    "# Filtramos columnas relevantes\n",
    "columnas_utiles = [\n",
    "    \"TipoEmpleo\", \"TrabajoRemoto\", \"Rol\", \"NivelEducativo\",\n",
    "    \"AniosExperiencia\", \"Pais\", \"TamanoEmpresa\", \"SalarioAnual\"\n",
    "]\n",
    "df = df[columnas_utiles]\n",
    "\n",
    "# Limpiamos y transformamos la experiencia profesional\n",
    "df[\"AniosExperiencia\"] = df[\"AniosExperiencia\"].replace({\n",
    "    \"Less than 1 year\": \"0\",\n",
    "    \"More than 50 years\": \"51\"\n",
    "})\n",
    "df[\"AniosExperiencia\"] = pd.to_numeric(df[\"AniosExperiencia\"], errors=\"coerce\")\n",
    "\n",
    "# Agrupamos países poco frecuentes como \"Otro\"\n",
    "top_paises = df[\"Pais\"].value_counts().head(15).index\n",
    "df[\"Pais\"] = df[\"Pais\"].apply(lambda x: x if x in top_paises else \"Otro\")\n",
    "\n",
    "# Convertimos tipo_empleo en categorías resumidas\n",
    "def simplificar_tipo_empleo(valor):\n",
    "    if pd.isna(valor): return None\n",
    "    if \"full-time\" in valor: return \"JornadaCompleta\"\n",
    "    if \"part-time\" in valor: return \"MediaJornada\"\n",
    "    if \"freelancer\" in valor or \"contractor\" in valor: return \"Autonomo\"\n",
    "    if \"student\" in valor: return \"Estudiante\"\n",
    "    if \"not employed\" in valor: return \"Desempleado\"\n",
    "    if \"retired\" in valor: return \"Jubilado\"\n",
    "    return \"Otro\"\n",
    "\n",
    "df[\"TipoEmpleo\"] = df[\"TipoEmpleo\"].apply(simplificar_tipo_empleo)\n",
    "\n",
    "# Simplificamos modalidad de trabajo\n",
    "df[\"TrabajoRemoto\"] = df[\"TrabajoRemoto\"].replace({\n",
    "    \"Remote\": \"Remoto\",\n",
    "    \"In-person\": \"Presencial\",\n",
    "    \"Hybrid (some remote, some in-person)\": \"Hibrido\"\n",
    "})\n",
    "\n",
    "def mapear_rol(rol_raw):\n",
    "    mapa_roles = {\n",
    "        \"Developer, full-stack\": \"Developer_Full_Stack\",\n",
    "        \"Developer, back-end\": \"Developer_Back_End\",\n",
    "        \"Developer, front-end\": \"Developer_Front_End\",\n",
    "        \"Developer, desktop or enterprise applications\": \"Developer_Desktop_Enterprise\",\n",
    "        \"Developer, mobile\": \"Developer_Mobile\",\n",
    "        \"Developer, embedded applications or devices\": \"Developer_Embedded_Devices\",\n",
    "        \"Data engineer\": \"Data_Engineer\",\n",
    "        \"Engineering manager\": \"Engineering_Manager\",\n",
    "        \"DevOps specialist\": \"DevOps_Specialist\",\n",
    "        \"Data scientist or machine learning specialist\": \"Data_Scientist_ML\",\n",
    "        \"Research & Development role\": \"Investigación_Desarrollo\",\n",
    "        \"Academic researcher\": \"Investigador_Academico\",\n",
    "        \"Cloud infrastructure engineer\": \"Cloud_Infrastructure_Engineer\",\n",
    "        \"Senior Executive (C-Suite, VP, etc.)\": \"Senior_Executive\",\n",
    "    }\n",
    "\n",
    "    if pd.isna(rol_raw):\n",
    "        return \"Otro_rol\"\n",
    "\n",
    "    # Algunos registros tienen varios roles separados por ';', nos quedamos con el primero\n",
    "    primer_rol = rol_raw.split(\";\")[0].strip()\n",
    "\n",
    "    # Mapear el primer rol, o poner 'Otro_rol' si no está en el diccionario\n",
    "    return mapa_roles.get(primer_rol, \"Otro_rol\")\n",
    "\n",
    "# Aplicarlo\n",
    "df[\"Rol\"] = df[\"Rol\"].apply(mapear_rol)\n",
    "\n",
    "# Simplificamos nivel educativo\n",
    "def simplificar_nivel(nivel):\n",
    "    if pd.isna(nivel): return None\n",
    "    if \"Bachelor\" in nivel: return \"Grado_universitario\"\n",
    "    if \"Master\" in nivel: return \"Master\"\n",
    "    if \"Professional\" in nivel or \"Ph.D\" in nivel or \"Doctoral\" in nivel: return \"Doctorado\"\n",
    "    if \"Secondary\" in nivel: return \"Secundaria\"\n",
    "    if \"Primary\" in nivel: return \"Primaria\"\n",
    "    if \"Associate\" in nivel: return \"Grado_medio\"\n",
    "    if \"Some college\" in nivel: return \"Universidad_sin_titulo\"\n",
    "    return \"Otro_nivel_educativo\"\n",
    "\n",
    "df[\"NivelEducativo\"] = df[\"NivelEducativo\"].apply(simplificar_nivel)\n",
    "\n",
    "# Eliminamos filas nulas y salarios excesivos\n",
    "# df = df.dropna()\n",
    "df = df[df[\"SalarioAnual\"] <= 300000]\n"
   ]
  },
  {
   "cell_type": "markdown",
   "id": "9701fcb0",
   "metadata": {},
   "source": [
    "**Paso 2: Procesamiento de la columna 'Rol' y 'Pais' y 'Tamano_empresa'**"
   ]
  },
  {
   "cell_type": "code",
   "execution_count": 3,
   "id": "4ef74fda",
   "metadata": {},
   "outputs": [],
   "source": [
    "df[\"AniosExperiencia\"] = df[\"AniosExperiencia\"].replace({\n",
    "    \"Less than 1 year\": \"0\", \"More than 50 years\": \"51\"\n",
    "})\n",
    "df[\"AniosExperiencia\"] = pd.to_numeric(df[\"AniosExperiencia\"], errors=\"coerce\")\n",
    "df[\"TamanoEmpresa\"] = df[\"TamanoEmpresa\"].replace(\"I don’t know\", pd.NA)"
   ]
  },
  {
   "cell_type": "code",
   "execution_count": 4,
   "id": "83d92cce",
   "metadata": {},
   "outputs": [],
   "source": [
    "df = df.dropna()\n",
    "df = df[df[\"SalarioAnual\"] <= 300000]"
   ]
  },
  {
   "cell_type": "markdown",
   "id": "cbef897f",
   "metadata": {},
   "source": [
    "**Paso 2: Procesamiento de la columna 'Rol' y 'Pais' y 'Tamano_empresa'**"
   ]
  },
  {
   "cell_type": "code",
   "execution_count": 5,
   "id": "6094ab3b",
   "metadata": {},
   "outputs": [],
   "source": [
    "# Rol\n",
    "roles_dummies = df[\"Rol\"].str.get_dummies(sep=\";\")\n",
    "top_roles = roles_dummies.sum().sort_values(ascending=False).head(15).index\n",
    "df = pd.concat([df.drop(columns=\"Rol\"), roles_dummies[top_roles]], axis=1)\n",
    "\n",
    "# País\n",
    "top_paises = df[\"Pais\"].value_counts().head(15).index\n",
    "df[\"Pais\"] = df[\"Pais\"].apply(lambda x: x if x in top_paises else \"Otro_pais\")\n",
    "\n",
    "# Aquí el cambio:\n",
    "df = pd.get_dummies(df, columns=[\"Pais\", \"TipoEmpleo\", \"TrabajoRemoto\", \"NivelEducativo\"], prefix='', prefix_sep='')\n",
    "\n",
    "# Y como ya no hay columna \"Pais_Otro\", el drop cambia a simplemente:\n",
    "if \"Otro_pais\" in df.columns:\n",
    "    df = df.drop(columns=[\"Otro_pais\"])\n",
    "\n",
    "def traducir_tamano_empresa(x):\n",
    "    traducciones = {\n",
    "        \"Just me - I am a freelancer, sole proprietor, etc.\": \"Freelance\",\n",
    "        \"2 to 9 employees\": \"2-9_empleados\",\n",
    "        \"10 to 19 employees\": \"10-19_empleados\",\n",
    "        \"20 to 99 employees\": \"20-99_empleados\",\n",
    "        \"100 to 499 employees\": \"100-499_empleados\",\n",
    "        \"500 to 999 employees\": \"500-999_empleados\",\n",
    "        \"1,000 to 4,999 employees\": \"1000-4999_empleados\",\n",
    "        \"5,000 to 9,999 employees\": \"5000-9999_empleados\",\n",
    "        \"10,000 or more employees\": \"+10000_empleados\"\n",
    "    }\n",
    "    return traducciones.get(x, x)  # si no lo encuentra, deja el valor original\n",
    "\n",
    "# Aplicarlo al dataframe\n",
    "df[\"TamanoEmpresa\"] = df[\"TamanoEmpresa\"].apply(traducir_tamano_empresa)\n"
   ]
  },
  {
   "cell_type": "markdown",
   "id": "a89df792",
   "metadata": {},
   "source": [
    "**Paso 3: Codificación de columnas categóricas**"
   ]
  },
  {
   "cell_type": "code",
   "execution_count": 6,
   "id": "e5230b4e",
   "metadata": {},
   "outputs": [],
   "source": [
    "for col in df.select_dtypes(include=\"bool\").columns:\n",
    "    df[col] = df[col].astype(int)"
   ]
  },
  {
   "cell_type": "markdown",
   "id": "b2a2e5b0",
   "metadata": {},
   "source": [
    "**Paso 4: Limpieza y preparación final**"
   ]
  },
  {
   "cell_type": "code",
   "execution_count": 7,
   "id": "a225b129",
   "metadata": {},
   "outputs": [],
   "source": [
    "# # 2. Limpiar textos\n",
    "# def limpiar_texto(x):\n",
    "#     if isinstance(x, str):\n",
    "#         x = x.strip()\n",
    "#         x = x.replace(\"á\", \"a\").replace(\"é\", \"e\").replace(\"í\", \"i\").replace(\"ó\", \"o\").replace(\"ú\", \"u\").replace(\"ñ\", \"n\")\n",
    "#         return x\n",
    "#     return x\n",
    "\n",
    "# for columna in [\"TipoEmpleo\", \"TrabajoRemoto\", \"NivelEducativo\", \"Pais\"]:\n",
    "#     if columna in df.columns:\n",
    "#         df[columna] = df[columna].apply(limpiar_texto)\n",
    "\n",
    "# if \"Rol\" in df.columns:\n",
    "#     df[\"Rol\"] = df[\"Rol\"].apply(lambda roles: [limpiar_texto(r) for r in roles] if isinstance(roles, list) else [])\n",
    "\n",
    "# Preparar datos finales\n",
    "X = df.drop(columns=\"SalarioAnual\")\n",
    "X.columns = [re.sub(r\"[^a-zA-Z0-9]\", \"_\", col) for col in X.columns]\n",
    "y = df[\"SalarioAnual\"]\n"
   ]
  },
  {
   "cell_type": "markdown",
   "id": "ccfa9223",
   "metadata": {},
   "source": [
    "**Paso 5: División en train/test**"
   ]
  },
  {
   "cell_type": "code",
   "execution_count": 8,
   "id": "b0c3429d",
   "metadata": {},
   "outputs": [],
   "source": [
    "X_train, X_test, y_train, y_test = train_test_split(X, y, random_state=42)"
   ]
  },
  {
   "cell_type": "markdown",
   "id": "d6650439",
   "metadata": {},
   "source": [
    "**Paso 6: Definición del grid de hiperparámetros**"
   ]
  },
  {
   "cell_type": "code",
   "execution_count": 9,
   "id": "b57f460d",
   "metadata": {},
   "outputs": [],
   "source": [
    "param_grid = {\n",
    "    \"iterations\": [800],\n",
    "    \"learning_rate\": [0.03],\n",
    "    \"depth\": [6],\n",
    "    \"l2_leaf_reg\": [3],\n",
    "    \"bagging_temperature\": [0.2]\n",
    "}"
   ]
  },
  {
   "cell_type": "markdown",
   "id": "050f1d81",
   "metadata": {},
   "source": [
    "**Paso 7: GridSearchCV y entrenamiento de CatBoost**"
   ]
  },
  {
   "cell_type": "code",
   "execution_count": 10,
   "id": "ca4b270d",
   "metadata": {},
   "outputs": [
    {
     "name": "stdout",
     "output_type": "stream",
     "text": [
      "Fitting 3 folds for each of 1 candidates, totalling 3 fits\n",
      "Mejor configuración encontrada:\n",
      "{'bagging_temperature': 0.2, 'depth': 6, 'iterations': 800, 'l2_leaf_reg': 3, 'learning_rate': 0.03}\n"
     ]
    }
   ],
   "source": [
    "model = CatBoostRegressor(verbose=0, random_state=42)\n",
    "\n",
    "grid = GridSearchCV(\n",
    "    estimator=model,\n",
    "    param_grid=param_grid,\n",
    "    scoring=\"r2\",\n",
    "    cv=3,\n",
    "    verbose=2,\n",
    "    n_jobs=-1\n",
    ")\n",
    "\n",
    "grid.fit(X_train, y_train, cat_features=[\"TamanoEmpresa\"])\n",
    "\n",
    "print(\"Mejor configuración encontrada:\")\n",
    "print(grid.best_params_)\n"
   ]
  },
  {
   "cell_type": "markdown",
   "id": "4fa99e1c",
   "metadata": {},
   "source": [
    "**Paso 8: Evaluación contra test**"
   ]
  },
  {
   "cell_type": "code",
   "execution_count": 11,
   "id": "c82e4428",
   "metadata": {},
   "outputs": [
    {
     "name": "stdout",
     "output_type": "stream",
     "text": [
      "R² en test con mejores hiperparámetros: 0.5917\n"
     ]
    }
   ],
   "source": [
    "# Evaluación en test\n",
    "mejor_modelo = grid.best_estimator_\n",
    "y_pred = mejor_modelo.predict(X_test)\n",
    "r2 = r2_score(y_test, y_pred)\n",
    "\n",
    "print(f\"R² en test con mejores hiperparámetros: {r2:.4f}\")\n"
   ]
  },
  {
   "cell_type": "markdown",
   "id": "d28aa205",
   "metadata": {},
   "source": [
    "**Paso 9: Guardado de modelo**"
   ]
  },
  {
   "cell_type": "code",
   "execution_count": 12,
   "id": "ded3e364",
   "metadata": {},
   "outputs": [
    {
     "data": {
      "text/plain": [
       "['model.pkl']"
      ]
     },
     "execution_count": 12,
     "metadata": {},
     "output_type": "execute_result"
    }
   ],
   "source": [
    "columnas_modelo = X.columns.tolist()\n",
    "joblib.dump((mejor_modelo, columnas_modelo), \"model.pkl\")"
   ]
  },
  {
   "cell_type": "code",
   "execution_count": 13,
   "id": "2b277e21",
   "metadata": {},
   "outputs": [
    {
     "data": {
      "text/plain": [
       "['AniosExperiencia',\n",
       " 'TamanoEmpresa',\n",
       " 'Developer_Full_Stack',\n",
       " 'Developer_Back_End',\n",
       " 'Otro_rol',\n",
       " 'Developer_Front_End',\n",
       " 'Developer_Desktop_Enterprise',\n",
       " 'Developer_Mobile',\n",
       " 'Developer_Embedded_Devices',\n",
       " 'Data_Engineer',\n",
       " 'Engineering_Manager',\n",
       " 'DevOps_Specialist',\n",
       " 'Data_Scientist_ML',\n",
       " 'Investigaci_n_Desarrollo',\n",
       " 'Investigador_Academico',\n",
       " 'Cloud_Infrastructure_Engineer',\n",
       " 'Senior_Executive',\n",
       " 'Australia',\n",
       " 'Brazil',\n",
       " 'Canada',\n",
       " 'France',\n",
       " 'Germany',\n",
       " 'India',\n",
       " 'Italy',\n",
       " 'Netherlands',\n",
       " 'Otro',\n",
       " 'Poland',\n",
       " 'Spain',\n",
       " 'Sweden',\n",
       " 'Ukraine',\n",
       " 'United_Kingdom_of_Great_Britain_and_Northern_Ireland',\n",
       " 'United_States_of_America',\n",
       " 'Autonomo',\n",
       " 'JornadaCompleta',\n",
       " 'MediaJornada',\n",
       " 'Hibrido',\n",
       " 'Presencial',\n",
       " 'Remoto',\n",
       " 'Doctorado',\n",
       " 'Grado_medio',\n",
       " 'Grado_universitario',\n",
       " 'Master',\n",
       " 'Otro_nivel_educativo',\n",
       " 'Primaria',\n",
       " 'Secundaria',\n",
       " 'Universidad_sin_titulo']"
      ]
     },
     "execution_count": 13,
     "metadata": {},
     "output_type": "execute_result"
    }
   ],
   "source": [
    "list(X.head().columns)"
   ]
  }
 ],
 "metadata": {
  "kernelspec": {
   "display_name": "Python 3",
   "language": "python",
   "name": "python3"
  },
  "language_info": {
   "codemirror_mode": {
    "name": "ipython",
    "version": 3
   },
   "file_extension": ".py",
   "mimetype": "text/x-python",
   "name": "python",
   "nbconvert_exporter": "python",
   "pygments_lexer": "ipython3",
   "version": "3.12.4"
  }
 },
 "nbformat": 4,
 "nbformat_minor": 5
}
