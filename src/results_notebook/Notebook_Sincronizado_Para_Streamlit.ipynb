{
 "cells": [
  {
   "cell_type": "markdown",
   "id": "79282f6e",
   "metadata": {},
   "source": [
    "**Paso 0: Librerias**"
   ]
  },
  {
   "cell_type": "code",
   "execution_count": 9,
   "id": "8132dcb3",
   "metadata": {},
   "outputs": [],
   "source": [
    "import pandas as pd\n",
    "import numpy as np\n",
    "import re\n",
    "from sklearn.model_selection import train_test_split, GridSearchCV\n",
    "from sklearn.metrics import r2_score\n",
    "from catboost import CatBoostRegressor\n",
    "import warnings\n",
    "warnings.filterwarnings(\"ignore\")\n",
    " \n",
    "import joblib"
   ]
  },
  {
   "cell_type": "markdown",
   "id": "4e17d8ac",
   "metadata": {},
   "source": [
    "**Paso 1: Limpieza avanzada y estandarización de variables**"
   ]
  },
  {
   "cell_type": "code",
   "execution_count": 10,
   "id": "db6b20ec",
   "metadata": {},
   "outputs": [],
   "source": [
    "# 📌 LIMPIEZA Y RENOMBRADO DE VARIABLES CLAVE\n",
    "df = pd.read_csv(r\"C:\\Users\\javid\\OneDrive\\Escritorio\\Javidev\\ProjectML_Prediccion_Salarios_IT\\data\\survey_results_public.csv\", low_memory=False)\n",
    "\n",
    "# Renombramos las columnas más importantes\n",
    "df = df.rename(columns={\n",
    "    \"Employment\": \"Tipo_empleo\",\n",
    "    \"RemoteWork\": \"Trabajo_remoto\",\n",
    "    \"DevType\": \"Rol\",\n",
    "    \"EdLevel\": \"Nivel_educativo\",\n",
    "    \"YearsCodePro\": \"Anios_experiencia\",\n",
    "    \"Country\": \"Pais\",\n",
    "    \"OrgSize\": \"Tamano_empresa\",\n",
    "    \"ConvertedCompYearly\": \"Salario_anual\"\n",
    "})\n",
    "\n",
    "# Filtramos columnas relevantes\n",
    "columnas_utiles = [\n",
    "    \"Tipo_empleo\", \"Trabajo_remoto\", \"Rol\", \"Nivel_educativo\",\n",
    "    \"Anios_experiencia\", \"Pais\", \"Tamano_empresa\", \"Salario_anual\"\n",
    "]\n",
    "df = df[columnas_utiles]\n",
    "\n",
    "# Limpiamos y transformamos la experiencia profesional\n",
    "df[\"Anios_experiencia\"] = df[\"Anios_experiencia\"].replace({\n",
    "    \"Less than 1 year\": \"0\",\n",
    "    \"More than 50 years\": \"51\"\n",
    "})\n",
    "df[\"Anios_experiencia\"] = pd.to_numeric(df[\"Anios_experiencia\"], errors=\"coerce\")\n",
    "\n",
    "# Agrupamos países poco frecuentes como \"Otro\"\n",
    "top_paises = df[\"Pais\"].value_counts().head(15).index\n",
    "df[\"Pais\"] = df[\"Pais\"].apply(lambda x: x if x in top_paises else \"Otro\")\n",
    "\n",
    "# Convertimos tipo_empleo en categorías resumidas\n",
    "def simplificar_tipo_empleo(valor):\n",
    "    if pd.isna(valor): return None\n",
    "    if \"full-time\" in valor: return \"Jornada completa\"\n",
    "    if \"part-time\" in valor: return \"Media jornada\"\n",
    "    if \"freelancer\" in valor or \"contractor\" in valor: return \"Autonomo\"\n",
    "    if \"student\" in valor: return \"Estudiante\"\n",
    "    if \"not employed\" in valor: return \"Desempleado\"\n",
    "    if \"retired\" in valor: return \"Jubilado\"\n",
    "    return \"Otro\"\n",
    "\n",
    "df[\"Tipo_empleo\"] = df[\"Tipo_empleo\"].apply(simplificar_tipo_empleo)\n",
    "\n",
    "# Simplificamos modalidad de trabajo\n",
    "df[\"Trabajo_remoto\"] = df[\"Trabajo_remoto\"].replace({\n",
    "    \"Remote\": \"Remoto\",\n",
    "    \"In-person\": \"Presencial\",\n",
    "    \"Hybrid (some remote, some in-person)\": \"Hibrido\"\n",
    "})\n",
    "\n",
    "def mapear_roles(rol_raw):\n",
    "    mapa_roles = {\n",
    "        \"Developer, full-stack\": \"Developer_Full_Stack\",\n",
    "        \"Developer, back-end\": \"Developer_Back_End\",\n",
    "        \"Developer, front-end\": \"Developoer_Front-End\",\n",
    "        \"Developer, desktop or enterprise applications\": \"Developer_Desktop_Enterprise\",\n",
    "        \"Developer, mobile\": \"Developer_Mobile\",\n",
    "        \"Developer, embedded applications or devices\": \"Developer_Embedded_Devices\",\n",
    "        \"Other (please specify)\": \"Otro_rol\",\n",
    "        \"Data engineer\": \"Data_Engineer\",\n",
    "        \"Engineering manager\": \"Engineering_Manager\",\n",
    "        \"DevOps specialist\": \"DevOps_Specialist\",\n",
    "        \"Data scientist or machine learning specialist\": \"Data_Scientist_ML\",\n",
    "        \"Research & Development role\": \"Investigación_Desarrollo\",\n",
    "        \"Academic researcher\": \"Investigador_Academico\",\n",
    "        \"Cloud infrastructure engineer\": \"Cloud_Infrastructure_Engineer\",\n",
    "        \"Senior Executive (C-Suite, VP, etc.)\": \"Senior_Executive\",\n",
    "    }\n",
    "\n",
    "    if pd.isna(rol_raw):\n",
    "        return []\n",
    "    \n",
    "    roles = [r.strip() for r in rol_raw.split(\";\")]\n",
    "    roles_mapeados = [mapa_roles.get(r, \"Otro\") for r in roles]\n",
    "    return roles_mapeados\n",
    "\n",
    "df[\"Rol\"] = df[\"Rol\"].apply(mapear_roles)\n",
    "\n",
    "# Simplificamos nivel educativo\n",
    "def simplificar_nivel(nivel):\n",
    "    if pd.isna(nivel): return None\n",
    "    if \"Bachelor\" in nivel: return \"Grado universitario\"\n",
    "    if \"Master\" in nivel: return \"Master\"\n",
    "    if \"Professional\" in nivel or \"Ph.D\" in nivel or \"Doctoral\" in nivel: return \"Doctorado\"\n",
    "    if \"Secondary\" in nivel: return \"Secundaria\"\n",
    "    if \"Primary\" in nivel: return \"Primaria\"\n",
    "    if \"Associate\" in nivel: return \"Grado medio\"\n",
    "    if \"Some college\" in nivel: return \"Universidad sin titulo\"\n",
    "    return \"Otro\"\n",
    "\n",
    "df[\"Nivel_educativo\"] = df[\"Nivel_educativo\"].apply(simplificar_nivel)\n",
    "\n",
    "# Eliminamos filas nulas y salarios excesivos\n",
    "# df = df.dropna()\n",
    "df = df[df[\"Salario_anual\"] <= 300000]\n"
   ]
  },
  {
   "cell_type": "markdown",
   "id": "9701fcb0",
   "metadata": {},
   "source": [
    "**Paso 2: Procesamiento de la columna 'Rol' y 'Pais' y 'Tamano_empresa'**"
   ]
  },
  {
   "cell_type": "code",
   "execution_count": 11,
   "id": "4ef74fda",
   "metadata": {},
   "outputs": [],
   "source": [
    "df[\"Anios_experiencia\"] = df[\"Anios_experiencia\"].replace({\n",
    "    \"Less than 1 year\": \"0\", \"More than 50 years\": \"51\"\n",
    "})\n",
    "df[\"Anios_experiencia\"] = pd.to_numeric(df[\"Anios_experiencia\"], errors=\"coerce\")\n",
    "df[\"Tamano_empresa\"] = df[\"Tamano_empresa\"].replace(\"I don’t know\", pd.NA)"
   ]
  },
  {
   "cell_type": "code",
   "execution_count": 12,
   "id": "83d92cce",
   "metadata": {},
   "outputs": [],
   "source": [
    "df = df.dropna()\n",
    "df = df[df[\"Salario_anual\"] <= 300000]"
   ]
  },
  {
   "cell_type": "markdown",
   "id": "cbef897f",
   "metadata": {},
   "source": [
    "**Paso 2: Procesamiento de la columna 'Rol' y 'Pais' y 'Tamano_empresa'**"
   ]
  },
  {
   "cell_type": "code",
   "execution_count": 13,
   "id": "6094ab3b",
   "metadata": {},
   "outputs": [],
   "source": [
    "# Rol\n",
    "roles_dummies = df[\"Rol\"].str.get_dummies(sep=\";\")\n",
    "top_roles = roles_dummies.sum().sort_values(ascending=False).head(15).index\n",
    "df = pd.concat([df.drop(columns=\"Rol\"), roles_dummies[top_roles]], axis=1)\n",
    "\n",
    "# País\n",
    "top_paises = df[\"Pais\"].value_counts().head(15).index\n",
    "df[\"Pais\"] = df[\"Pais\"].apply(lambda x: x if x in top_paises else \"Otro_pais\")\n",
    "df = pd.get_dummies(df, columns=[\"Pais\"])\n",
    "if \"Pais_Otro\" in df.columns:\n",
    "    df = df.drop(columns=[\"Pais_Otro\"])\n",
    "\n",
    "# Resto\n",
    "df = pd.get_dummies(df, columns=[\"Tipo_empleo\", \"Trabajo_remoto\", \"Nivel_educativo\"], drop_first=False)\n",
    "\n",
    "orden_empresa = [\n",
    "    \"Just me - I am a freelancer, sole proprietor, etc.\",\n",
    "    \"2 to 9 employees\",\n",
    "    \"10 to 19 employees\",\n",
    "    \"20 to 99 employees\",\n",
    "    \"100 to 499 employees\",\n",
    "    \"500 to 999 employees\",\n",
    "    \"1,000 to 4,999 employees\",\n",
    "    \"5,000 to 9,999 employees\",\n",
    "    \"10,000 or more employees\"\n",
    "]\n",
    "df[\"Tamano_empresa\"] = df[\"Tamano_empresa\"].apply(lambda x: orden_empresa.index(x))"
   ]
  },
  {
   "cell_type": "markdown",
   "id": "a89df792",
   "metadata": {},
   "source": [
    "**Paso 3: Codificación de columnas categóricas**"
   ]
  },
  {
   "cell_type": "code",
   "execution_count": 14,
   "id": "e5230b4e",
   "metadata": {},
   "outputs": [],
   "source": [
    "for col in df.columns:\n",
    "    if df[col].dtype == bool:\n",
    "        df[col] = df[col].astype(int)"
   ]
  },
  {
   "cell_type": "markdown",
   "id": "b2a2e5b0",
   "metadata": {},
   "source": [
    "**Paso 4: Limpieza y preparación final**"
   ]
  },
  {
   "cell_type": "code",
   "execution_count": 15,
   "id": "41e8671b",
   "metadata": {},
   "outputs": [],
   "source": [
    "# Preparar datos finales\n",
    "X = df.drop(columns=\"Salario_anual\")\n",
    "X.columns = [re.sub(r\"[^a-zA-Z0-9]\", \"_\", col) for col in X.columns]\n",
    "y = df[\"Salario_anual\"]"
   ]
  },
  {
   "cell_type": "code",
   "execution_count": 16,
   "id": "0462602d",
   "metadata": {},
   "outputs": [
    {
     "ename": "KeyError",
     "evalue": "'Tipo_empleo'",
     "output_type": "error",
     "traceback": [
      "\u001b[1;31m---------------------------------------------------------------------------\u001b[0m",
      "\u001b[1;31mKeyError\u001b[0m                                  Traceback (most recent call last)",
      "File \u001b[1;32mc:\\Users\\javid\\AppData\\Local\\Programs\\Python\\Python312\\Lib\\site-packages\\pandas\\core\\indexes\\base.py:3805\u001b[0m, in \u001b[0;36mIndex.get_loc\u001b[1;34m(self, key)\u001b[0m\n\u001b[0;32m   3804\u001b[0m \u001b[38;5;28;01mtry\u001b[39;00m:\n\u001b[1;32m-> 3805\u001b[0m     \u001b[38;5;28;01mreturn\u001b[39;00m \u001b[38;5;28;43mself\u001b[39;49m\u001b[38;5;241;43m.\u001b[39;49m\u001b[43m_engine\u001b[49m\u001b[38;5;241;43m.\u001b[39;49m\u001b[43mget_loc\u001b[49m\u001b[43m(\u001b[49m\u001b[43mcasted_key\u001b[49m\u001b[43m)\u001b[49m\n\u001b[0;32m   3806\u001b[0m \u001b[38;5;28;01mexcept\u001b[39;00m \u001b[38;5;167;01mKeyError\u001b[39;00m \u001b[38;5;28;01mas\u001b[39;00m err:\n",
      "File \u001b[1;32mindex.pyx:167\u001b[0m, in \u001b[0;36mpandas._libs.index.IndexEngine.get_loc\u001b[1;34m()\u001b[0m\n",
      "File \u001b[1;32mindex.pyx:196\u001b[0m, in \u001b[0;36mpandas._libs.index.IndexEngine.get_loc\u001b[1;34m()\u001b[0m\n",
      "File \u001b[1;32mpandas\\\\_libs\\\\hashtable_class_helper.pxi:7081\u001b[0m, in \u001b[0;36mpandas._libs.hashtable.PyObjectHashTable.get_item\u001b[1;34m()\u001b[0m\n",
      "File \u001b[1;32mpandas\\\\_libs\\\\hashtable_class_helper.pxi:7089\u001b[0m, in \u001b[0;36mpandas._libs.hashtable.PyObjectHashTable.get_item\u001b[1;34m()\u001b[0m\n",
      "\u001b[1;31mKeyError\u001b[0m: 'Tipo_empleo'",
      "\nThe above exception was the direct cause of the following exception:\n",
      "\u001b[1;31mKeyError\u001b[0m                                  Traceback (most recent call last)",
      "Cell \u001b[1;32mIn[16], line 12\u001b[0m\n\u001b[0;32m      9\u001b[0m         \u001b[38;5;28;01mreturn\u001b[39;00m x\n\u001b[0;32m     10\u001b[0m     \u001b[38;5;28;01mreturn\u001b[39;00m x\n\u001b[1;32m---> 12\u001b[0m df[\u001b[38;5;124m\"\u001b[39m\u001b[38;5;124mTipo_empleo\u001b[39m\u001b[38;5;124m\"\u001b[39m] \u001b[38;5;241m=\u001b[39m \u001b[43mdf\u001b[49m\u001b[43m[\u001b[49m\u001b[38;5;124;43m\"\u001b[39;49m\u001b[38;5;124;43mTipo_empleo\u001b[39;49m\u001b[38;5;124;43m\"\u001b[39;49m\u001b[43m]\u001b[49m\u001b[38;5;241m.\u001b[39mapply(limpiar_texto)\n\u001b[0;32m     13\u001b[0m df[\u001b[38;5;124m\"\u001b[39m\u001b[38;5;124mTrabajo_remoto\u001b[39m\u001b[38;5;124m\"\u001b[39m] \u001b[38;5;241m=\u001b[39m df[\u001b[38;5;124m\"\u001b[39m\u001b[38;5;124mTrabajo_remoto\u001b[39m\u001b[38;5;124m\"\u001b[39m]\u001b[38;5;241m.\u001b[39mapply(limpiar_texto)\n\u001b[0;32m     14\u001b[0m df[\u001b[38;5;124m\"\u001b[39m\u001b[38;5;124mNivel_educativo\u001b[39m\u001b[38;5;124m\"\u001b[39m] \u001b[38;5;241m=\u001b[39m df[\u001b[38;5;124m\"\u001b[39m\u001b[38;5;124mNivel_educativo\u001b[39m\u001b[38;5;124m\"\u001b[39m]\u001b[38;5;241m.\u001b[39mapply(limpiar_texto)\n",
      "File \u001b[1;32mc:\\Users\\javid\\AppData\\Local\\Programs\\Python\\Python312\\Lib\\site-packages\\pandas\\core\\frame.py:4102\u001b[0m, in \u001b[0;36mDataFrame.__getitem__\u001b[1;34m(self, key)\u001b[0m\n\u001b[0;32m   4100\u001b[0m \u001b[38;5;28;01mif\u001b[39;00m \u001b[38;5;28mself\u001b[39m\u001b[38;5;241m.\u001b[39mcolumns\u001b[38;5;241m.\u001b[39mnlevels \u001b[38;5;241m>\u001b[39m \u001b[38;5;241m1\u001b[39m:\n\u001b[0;32m   4101\u001b[0m     \u001b[38;5;28;01mreturn\u001b[39;00m \u001b[38;5;28mself\u001b[39m\u001b[38;5;241m.\u001b[39m_getitem_multilevel(key)\n\u001b[1;32m-> 4102\u001b[0m indexer \u001b[38;5;241m=\u001b[39m \u001b[38;5;28;43mself\u001b[39;49m\u001b[38;5;241;43m.\u001b[39;49m\u001b[43mcolumns\u001b[49m\u001b[38;5;241;43m.\u001b[39;49m\u001b[43mget_loc\u001b[49m\u001b[43m(\u001b[49m\u001b[43mkey\u001b[49m\u001b[43m)\u001b[49m\n\u001b[0;32m   4103\u001b[0m \u001b[38;5;28;01mif\u001b[39;00m is_integer(indexer):\n\u001b[0;32m   4104\u001b[0m     indexer \u001b[38;5;241m=\u001b[39m [indexer]\n",
      "File \u001b[1;32mc:\\Users\\javid\\AppData\\Local\\Programs\\Python\\Python312\\Lib\\site-packages\\pandas\\core\\indexes\\base.py:3812\u001b[0m, in \u001b[0;36mIndex.get_loc\u001b[1;34m(self, key)\u001b[0m\n\u001b[0;32m   3807\u001b[0m     \u001b[38;5;28;01mif\u001b[39;00m \u001b[38;5;28misinstance\u001b[39m(casted_key, \u001b[38;5;28mslice\u001b[39m) \u001b[38;5;129;01mor\u001b[39;00m (\n\u001b[0;32m   3808\u001b[0m         \u001b[38;5;28misinstance\u001b[39m(casted_key, abc\u001b[38;5;241m.\u001b[39mIterable)\n\u001b[0;32m   3809\u001b[0m         \u001b[38;5;129;01mand\u001b[39;00m \u001b[38;5;28many\u001b[39m(\u001b[38;5;28misinstance\u001b[39m(x, \u001b[38;5;28mslice\u001b[39m) \u001b[38;5;28;01mfor\u001b[39;00m x \u001b[38;5;129;01min\u001b[39;00m casted_key)\n\u001b[0;32m   3810\u001b[0m     ):\n\u001b[0;32m   3811\u001b[0m         \u001b[38;5;28;01mraise\u001b[39;00m InvalidIndexError(key)\n\u001b[1;32m-> 3812\u001b[0m     \u001b[38;5;28;01mraise\u001b[39;00m \u001b[38;5;167;01mKeyError\u001b[39;00m(key) \u001b[38;5;28;01mfrom\u001b[39;00m \u001b[38;5;21;01merr\u001b[39;00m\n\u001b[0;32m   3813\u001b[0m \u001b[38;5;28;01mexcept\u001b[39;00m \u001b[38;5;167;01mTypeError\u001b[39;00m:\n\u001b[0;32m   3814\u001b[0m     \u001b[38;5;66;03m# If we have a listlike key, _check_indexing_error will raise\u001b[39;00m\n\u001b[0;32m   3815\u001b[0m     \u001b[38;5;66;03m#  InvalidIndexError. Otherwise we fall through and re-raise\u001b[39;00m\n\u001b[0;32m   3816\u001b[0m     \u001b[38;5;66;03m#  the TypeError.\u001b[39;00m\n\u001b[0;32m   3817\u001b[0m     \u001b[38;5;28mself\u001b[39m\u001b[38;5;241m.\u001b[39m_check_indexing_error(key)\n",
      "\u001b[1;31mKeyError\u001b[0m: 'Tipo_empleo'"
     ]
    }
   ],
   "source": [
    "# 📌 Sincronizar nombres de variables para compatibilidad con Streamlit\n",
    "\n",
    "# Normalizamos textos antes de get_dummies\n",
    "def limpiar_texto(x):\n",
    "    if isinstance(x, str):\n",
    "        x = x.strip()\n",
    "        x = x.replace(\"á\", \"a\").replace(\"é\", \"e\").replace(\"í\", \"i\").replace(\"ó\", \"o\").replace(\"ú\", \"u\").replace(\"ñ\", \"n\")\n",
    "        x = x.replace(\"_\", \" \")\n",
    "        return x\n",
    "    return x\n",
    "\n",
    "df[\"Tipo_empleo\"] = df[\"Tipo_empleo\"].apply(limpiar_texto)\n",
    "df[\"Trabajo_remoto\"] = df[\"Trabajo_remoto\"].apply(limpiar_texto)\n",
    "df[\"Nivel_educativo\"] = df[\"Nivel_educativo\"].apply(limpiar_texto)\n",
    "df[\"Pais\"] = df[\"Pais\"].apply(limpiar_texto)\n",
    "df[\"Rol\"] = df[\"Rol\"].apply(lambda roles: [limpiar_texto(r) for r in roles] if isinstance(roles, list) else [])\n",
    "\n",
    "# Aplicar get_dummies correctamente\n",
    "X = pd.get_dummies(df.drop(columns=\"Salario_anual\"), columns=[\"Tipo_empleo\", \"Trabajo_remoto\", \"Nivel_educativo\", \"Pais\"], prefix_sep=\"\", dtype=int)\n",
    "\n",
    "# Explode roles y aplicar get_dummies a rol\n",
    "roles_exploded = df.explode(\"Rol\")\n",
    "roles_dummies = pd.get_dummies(roles_exploded[\"Rol\"], prefix=\"\", prefix_sep=\"\", dtype=int)\n",
    "roles_sumados = roles_dummies.groupby(level=0).sum()\n",
    "X = X.join(roles_sumados)\n",
    "\n",
    "y = df[\"Salario_anual\"]\n"
   ]
  },
  {
   "cell_type": "markdown",
   "id": "ccfa9223",
   "metadata": {},
   "source": [
    "**Paso 5: División en train/test**"
   ]
  },
  {
   "cell_type": "code",
   "execution_count": null,
   "id": "b0c3429d",
   "metadata": {},
   "outputs": [],
   "source": [
    "X_train, X_test, y_train, y_test = train_test_split(X, y, random_state=42)"
   ]
  },
  {
   "cell_type": "markdown",
   "id": "d6650439",
   "metadata": {},
   "source": [
    "**Paso 6: Definición del grid de hiperparámetros**"
   ]
  },
  {
   "cell_type": "code",
   "execution_count": null,
   "id": "b57f460d",
   "metadata": {},
   "outputs": [],
   "source": [
    "param_grid = {\n",
    "    \"iterations\": [800],\n",
    "    \"learning_rate\": [0.03],\n",
    "    \"depth\": [6],\n",
    "    \"l2_leaf_reg\": [3],\n",
    "    \"bagging_temperature\": [0.2]\n",
    "}"
   ]
  },
  {
   "cell_type": "markdown",
   "id": "050f1d81",
   "metadata": {},
   "source": [
    "**Paso 7: GridSearchCV y entrenamiento de CatBoost**"
   ]
  },
  {
   "cell_type": "code",
   "execution_count": null,
   "id": "ca4b270d",
   "metadata": {},
   "outputs": [
    {
     "name": "stdout",
     "output_type": "stream",
     "text": [
      "Fitting 3 folds for each of 1 candidates, totalling 3 fits\n",
      "Mejor configuración encontrada:\n",
      "{'bagging_temperature': 0.2, 'depth': 6, 'iterations': 800, 'l2_leaf_reg': 3, 'learning_rate': 0.03}\n"
     ]
    }
   ],
   "source": [
    "model = CatBoostRegressor(verbose=0, random_state=42)\n",
    "\n",
    "grid = GridSearchCV(\n",
    "    estimator=model,\n",
    "    param_grid=param_grid,\n",
    "    scoring=\"r2\",\n",
    "    cv=3,\n",
    "    verbose=2,\n",
    "    n_jobs=-1\n",
    ")\n",
    "\n",
    "grid.fit(X_train, y_train)\n",
    "\n",
    "print(\"Mejor configuración encontrada:\")\n",
    "print(grid.best_params_)\n"
   ]
  },
  {
   "cell_type": "markdown",
   "id": "4fa99e1c",
   "metadata": {},
   "source": [
    "**Paso 8: Evaluación contra test**"
   ]
  },
  {
   "cell_type": "code",
   "execution_count": null,
   "id": "c82e4428",
   "metadata": {},
   "outputs": [
    {
     "name": "stdout",
     "output_type": "stream",
     "text": [
      "R² en test con mejores hiperparámetros: 0.5946\n"
     ]
    }
   ],
   "source": [
    "# Evaluación en test\n",
    "mejor_modelo = grid.best_estimator_\n",
    "y_pred = mejor_modelo.predict(X_test)\n",
    "r2 = r2_score(y_test, y_pred)\n",
    "\n",
    "print(f\"R² en test con mejores hiperparámetros: {r2:.4f}\")\n"
   ]
  },
  {
   "cell_type": "markdown",
   "id": "d28aa205",
   "metadata": {},
   "source": [
    "**Paso 9: Guardado de modelo**"
   ]
  },
  {
   "cell_type": "code",
   "execution_count": null,
   "id": "ded3e364",
   "metadata": {},
   "outputs": [
    {
     "data": {
      "text/plain": [
       "['model.pkl']"
      ]
     },
     "execution_count": 12,
     "metadata": {},
     "output_type": "execute_result"
    }
   ],
   "source": [
    "columnas_modelo = X.columns.tolist()\n",
    "joblib.dump((mejor_modelo, columnas_modelo), \"model.pkl\")"
   ]
  },
  {
   "cell_type": "code",
   "execution_count": null,
   "id": "2b277e21",
   "metadata": {},
   "outputs": [
    {
     "data": {
      "text/plain": [
       "['Anios_experiencia',\n",
       " 'Tamano_empresa',\n",
       " '__Developer_Full_Stack__',\n",
       " '__Developer_Back_End__',\n",
       " '__Otro__',\n",
       " '__Developoer_Front_End__',\n",
       " '__Developer_Desktop_Enterprise__',\n",
       " '__Developer_Mobile__',\n",
       " '__Developer_Embedded_Devices__',\n",
       " '__Data_Engineer__',\n",
       " '__Engineering_Manager__',\n",
       " '__DevOps_Specialist__',\n",
       " '__Data_Scientist_ML__',\n",
       " '__Investigaci_n_Desarrollo__',\n",
       " '__Investigador_Academico__',\n",
       " '__Cloud_Infrastructure_Engineer__',\n",
       " '__Senior_Executive__',\n",
       " 'Pais_Australia',\n",
       " 'Pais_Brazil',\n",
       " 'Pais_Canada',\n",
       " 'Pais_France',\n",
       " 'Pais_Germany',\n",
       " 'Pais_India',\n",
       " 'Pais_Italy',\n",
       " 'Pais_Netherlands',\n",
       " 'Pais_Otro',\n",
       " 'Pais_Otro_pais',\n",
       " 'Pais_Poland',\n",
       " 'Pais_Spain',\n",
       " 'Pais_Sweden',\n",
       " 'Pais_Ukraine',\n",
       " 'Pais_United_Kingdom_of_Great_Britain_and_Northern_Ireland',\n",
       " 'Pais_United_States_of_America',\n",
       " 'Tipo_empleo_Autonomo',\n",
       " 'Tipo_empleo_Jornada_completa',\n",
       " 'Tipo_empleo_Media_jornada',\n",
       " 'Trabajo_remoto_Hibrido',\n",
       " 'Trabajo_remoto_Presencial',\n",
       " 'Trabajo_remoto_Remoto',\n",
       " 'Nivel_educativo_Doctorado',\n",
       " 'Nivel_educativo_Grado_medio',\n",
       " 'Nivel_educativo_Grado_universitario',\n",
       " 'Nivel_educativo_Master',\n",
       " 'Nivel_educativo_Otro',\n",
       " 'Nivel_educativo_Primaria',\n",
       " 'Nivel_educativo_Secundaria',\n",
       " 'Nivel_educativo_Universidad_sin_titulo']"
      ]
     },
     "execution_count": 13,
     "metadata": {},
     "output_type": "execute_result"
    }
   ],
   "source": [
    "list(X.head().columns)"
   ]
  }
 ],
 "metadata": {
  "kernelspec": {
   "display_name": "Python 3",
   "language": "python",
   "name": "python3"
  },
  "language_info": {
   "codemirror_mode": {
    "name": "ipython",
    "version": 3
   },
   "file_extension": ".py",
   "mimetype": "text/x-python",
   "name": "python",
   "nbconvert_exporter": "python",
   "pygments_lexer": "ipython3",
   "version": "3.12.4"
  }
 },
 "nbformat": 4,
 "nbformat_minor": 5
}
