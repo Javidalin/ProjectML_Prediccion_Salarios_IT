{
 "cells": [
  {
   "cell_type": "markdown",
   "id": "d4a2b486",
   "metadata": {},
   "source": [
    "# ⚖️ Comparativa de Modelos de Regresión para Predicción de Salario IT\n",
    "\n",
    "Este notebook compara el rendimiento de distintos modelos de regresión usando el mismo preprocesamiento, datos y métricas:\n",
    "\n",
    "Modelos comparados:\n",
    "- LightGBM\n",
    "- XGBoost\n",
    "- CatBoost\n",
    "- Ridge\n",
    "- Random Forest\n",
    "\n",
    "Métrica: Coeficiente de determinación R²\n"
   ]
  },
  {
   "cell_type": "code",
   "execution_count": 1,
   "id": "d9a86ee2",
   "metadata": {},
   "outputs": [],
   "source": [
    "import pandas as pd\n",
    "import numpy as np\n",
    "from sklearn.model_selection import train_test_split, cross_val_score\n",
    "from sklearn.compose import ColumnTransformer\n",
    "from sklearn.pipeline import Pipeline\n",
    "from sklearn.preprocessing import OneHotEncoder, StandardScaler\n",
    "from sklearn.impute import SimpleImputer\n",
    "from sklearn.metrics import r2_score\n",
    "\n",
    "from lightgbm import LGBMRegressor\n",
    "from catboost import CatBoostRegressor\n",
    "from xgboost import XGBRegressor\n",
    "from sklearn.linear_model import Ridge\n",
    "from sklearn.ensemble import RandomForestRegressor\n",
    "\n",
    "import warnings\n",
    "warnings.filterwarnings(\"ignore\")\n"
   ]
  },
  {
   "cell_type": "code",
   "execution_count": 2,
   "id": "7ab39692",
   "metadata": {},
   "outputs": [],
   "source": [
    "df = pd.read_csv(\"./data/survey_results_public.csv\", low_memory=False)\n",
    "\n",
    "columnas = {\n",
    "    \"Employment\": \"Tipo_empleo\",\n",
    "    \"RemoteWork\": \"Trabajo_remoto\",\n",
    "    \"DevType\": \"Rol\",\n",
    "    \"EdLevel\": \"Nivel_educativo\",\n",
    "    \"YearsCodePro\": \"Anios_experiencia\",\n",
    "    \"Country\": \"Pais\",\n",
    "    \"OrgSize\": \"Tamano_empresa\",\n",
    "    \"ConvertedCompYearly\": \"Salario_anual\"\n",
    "}\n",
    "df = df[list(columnas.keys())].rename(columns=columnas)\n",
    "\n",
    "df = df[df[\"Salario_anual\"].between(10000, 300000)]\n",
    "df[\"Anios_experiencia\"] = df[\"Anios_experiencia\"].replace({\n",
    "    \"Less than 1 year\": \"0\", \"More than 50 years\": \"51\"\n",
    "})\n",
    "df[\"Anios_experiencia\"] = pd.to_numeric(df[\"Anios_experiencia\"], errors=\"coerce\")\n",
    "\n",
    "top_paises = df[\"Pais\"].value_counts().head(15).index\n",
    "df[\"Pais\"] = df[\"Pais\"].apply(lambda x: x if x in top_paises else \"Otro\")\n",
    "\n",
    "roles = df[\"Rol\"].str.get_dummies(sep=\";\")\n",
    "df = pd.concat([df.drop(columns=[\"Rol\"]), roles], axis=1)\n",
    "df = df.dropna()\n"
   ]
  },
  {
   "cell_type": "code",
   "execution_count": 3,
   "id": "c5153ca6",
   "metadata": {},
   "outputs": [],
   "source": [
    "df[\"Salario_anual_log\"] = np.log1p(df[\"Salario_anual\"])\n",
    "df[\"Anios_experiencia_log\"] = np.log1p(df[\"Anios_experiencia\"])\n",
    "df[\"Anios_experiencia_cuadrado\"] = df[\"Anios_experiencia\"] ** 2\n",
    "\n",
    "orden_empresa = [\n",
    "    \"Just me - I am a freelancer, sole proprietor, etc.\",\n",
    "    \"2 to 9 employees\",\n",
    "    \"10 to 19 employees\",\n",
    "    \"20 to 99 employees\",\n",
    "    \"100 to 499 employees\",\n",
    "    \"500 to 999 employees\",\n",
    "    \"1,000 to 4,999 employees\",\n",
    "    \"5,000 to 9,999 employees\",\n",
    "    \"10,000 or more employees\"\n",
    "]\n",
    "df = df[df[\"Tamano_empresa\"].isin(orden_empresa)]\n",
    "df[\"Tamano_empresa_ordinal\"] = df[\"Tamano_empresa\"].apply(lambda x: orden_empresa.index(x))\n"
   ]
  },
  {
   "cell_type": "code",
   "execution_count": 4,
   "id": "7907fef2",
   "metadata": {},
   "outputs": [],
   "source": [
    "X = df.drop(columns=[\"Salario_anual\", \"Salario_anual_log\", \"Tamano_empresa\"])\n",
    "y = df[\"Salario_anual_log\"]\n",
    "\n",
    "cat_cols = [\"Tipo_empleo\", \"Trabajo_remoto\", \"Pais\", \"Nivel_educativo\"]\n",
    "num_cols = [col for col in X.columns if col not in cat_cols]\n",
    "\n",
    "cat_pipeline = Pipeline([\n",
    "    (\"imputer\", SimpleImputer(strategy=\"most_frequent\")),\n",
    "    (\"encoder\", OneHotEncoder(handle_unknown=\"ignore\"))\n",
    "])\n",
    "\n",
    "num_pipeline = Pipeline([\n",
    "    (\"imputer\", SimpleImputer(strategy=\"median\")),\n",
    "    (\"scaler\", StandardScaler())\n",
    "])\n",
    "\n",
    "preprocessor = ColumnTransformer([\n",
    "    (\"cat\", cat_pipeline, cat_cols),\n",
    "    (\"num\", num_pipeline, num_cols)\n",
    "])\n",
    "\n",
    "X_train, X_test, y_train, y_test = train_test_split(X, y, test_size=0.2, random_state=42)\n"
   ]
  },
  {
   "cell_type": "code",
   "execution_count": 5,
   "id": "54a064f7",
   "metadata": {},
   "outputs": [
    {
     "name": "stdout",
     "output_type": "stream",
     "text": [
      "Entrenando LightGBM...\n",
      "[LightGBM] [Info] Auto-choosing row-wise multi-threading, the overhead of testing was 0.002198 seconds.\n",
      "You can set `force_row_wise=true` to remove the overhead.\n",
      "And if memory is not enough, you can set `force_col_wise=true`.\n",
      "[LightGBM] [Info] Total Bins 346\n",
      "[LightGBM] [Info] Number of data points in the train set: 16229, number of used features: 79\n",
      "[LightGBM] [Info] Start training from score 11.112555\n",
      "R² en test (LightGBM): 0.6201\n",
      "Entrenando XGBoost...\n",
      "R² en test (XGBoost): 0.6045\n",
      "Entrenando CatBoost...\n",
      "R² en test (CatBoost): 0.6218\n",
      "Entrenando Ridge...\n",
      "R² en test (Ridge): 0.5942\n",
      "Entrenando RandomForest...\n",
      "R² en test (RandomForest): 0.5424\n"
     ]
    }
   ],
   "source": [
    "modelos = {\n",
    "    \"LightGBM\": LGBMRegressor(random_state=42),\n",
    "    \"XGBoost\": XGBRegressor(random_state=42, verbosity=0),\n",
    "    \"CatBoost\": CatBoostRegressor(verbose=0, random_state=42),\n",
    "    \"Ridge\": Ridge(),\n",
    "    \"RandomForest\": RandomForestRegressor(random_state=42)\n",
    "}\n",
    "\n",
    "resultados = {}\n",
    "\n",
    "for nombre, modelo in modelos.items():\n",
    "    pipe = Pipeline([\n",
    "        (\"preprocessor\", preprocessor),\n",
    "        (\"regressor\", modelo)\n",
    "    ])\n",
    "    print(f\"Entrenando {nombre}...\")\n",
    "    pipe.fit(X_train, y_train)\n",
    "    y_pred = pipe.predict(X_test)\n",
    "    score = r2_score(y_test, y_pred)\n",
    "    resultados[nombre] = score\n",
    "    print(f\"R² en test ({nombre}): {score:.4f}\")\n"
   ]
  }
 ],
 "metadata": {
  "kernelspec": {
   "display_name": "Python 3",
   "language": "python",
   "name": "python3"
  },
  "language_info": {
   "codemirror_mode": {
    "name": "ipython",
    "version": 3
   },
   "file_extension": ".py",
   "mimetype": "text/x-python",
   "name": "python",
   "nbconvert_exporter": "python",
   "pygments_lexer": "ipython3",
   "version": "3.12.4"
  }
 },
 "nbformat": 4,
 "nbformat_minor": 5
}
