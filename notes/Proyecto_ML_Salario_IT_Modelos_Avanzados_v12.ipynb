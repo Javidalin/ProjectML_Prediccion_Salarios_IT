{
 "cells": [
  {
   "cell_type": "markdown",
   "id": "fe2350ac",
   "metadata": {},
   "source": [
    "# 🧠 CatBoost para Predicción de Salario IT - Comparativa de Estrategias\n",
    "\n",
    "Este notebook aplica y compara dos enfoques para entrenar un modelo CatBoost:\n",
    "\n",
    "1. **CatBoost con preprocesamiento manual + GridSearchCV**\n",
    "2. **CatBoost con variables categóricas nativas (sin preprocesamiento)**\n",
    "\n",
    "📁 El dataset debe estar en `./data/survey_results_public.csv`\n"
   ]
  },
  {
   "cell_type": "code",
   "execution_count": 4,
   "id": "9f5ae2a6",
   "metadata": {},
   "outputs": [],
   "source": [
    "import pandas as pd\n",
    "import numpy as np\n",
    "from sklearn.model_selection import train_test_split, GridSearchCV\n",
    "from sklearn.compose import ColumnTransformer\n",
    "from sklearn.pipeline import Pipeline\n",
    "from sklearn.preprocessing import OneHotEncoder, StandardScaler\n",
    "from sklearn.impute import SimpleImputer\n",
    "from sklearn.metrics import r2_score\n",
    "from catboost import CatBoostRegressor, Pool\n",
    "import warnings\n",
    "warnings.filterwarnings(\"ignore\")\n"
   ]
  },
  {
   "cell_type": "code",
   "execution_count": 5,
   "id": "09285e70",
   "metadata": {},
   "outputs": [],
   "source": [
    "# Cargar datos\n",
    "df = pd.read_csv(\"./data/survey_results_public.csv\")\n",
    "\n",
    "# Renombrar columnas\n",
    "df = df.rename(columns={\n",
    "    \"Employment\": \"Tipo_empleo\",\n",
    "    \"RemoteWork\": \"Trabajo_remoto\",\n",
    "    \"DevType\": \"Rol\",\n",
    "    \"EdLevel\": \"Nivel_educativo\",\n",
    "    \"YearsCodePro\": \"Anios_experiencia\",\n",
    "    \"Country\": \"Pais\",\n",
    "    \"OrgSize\": \"Tamano_empresa\",\n",
    "    \"ConvertedCompYearly\": \"Salario_anual\"\n",
    "})\n",
    "\n",
    "# Filtrar valores extremos\n",
    "df = df[df[\"Salario_anual\"].between(10000, 300000)]\n",
    "\n",
    "# Normalizar experiencia\n",
    "df[\"Anios_experiencia\"] = df[\"Anios_experiencia\"].replace({\n",
    "    \"Less than 1 year\": \"0\", \"More than 50 years\": \"51\"\n",
    "})\n",
    "df[\"Anios_experiencia\"] = pd.to_numeric(df[\"Anios_experiencia\"], errors=\"coerce\")\n",
    "\n",
    "# Agrupar países con pocos registros\n",
    "top_paises = df[\"Pais\"].value_counts().head(15).index\n",
    "df[\"Pais\"] = df[\"Pais\"].apply(lambda x: x if x in top_paises else \"Otro\")\n",
    "\n",
    "# Expandir columna multietiqueta\n",
    "roles = df[\"Rol\"].str.get_dummies(sep=\";\")\n",
    "df = pd.concat([df.drop(columns=\"Rol\"), roles], axis=1)\n",
    "\n",
    "# Eliminar nulos\n",
    "df = df.dropna()\n",
    "\n",
    "# Variables nuevas\n",
    "df[\"Salario_anual_log\"] = np.log1p(df[\"Salario_anual\"])\n",
    "df[\"Anios_experiencia_log\"] = np.log1p(df[\"Anios_experiencia\"])\n",
    "df[\"Anios_experiencia_cuadrado\"] = df[\"Anios_experiencia\"] ** 2\n",
    "\n",
    "# Ordenar tamaño de empresa\n",
    "orden = [\n",
    "    \"Just me - I am a freelancer, sole proprietor, etc.\",\n",
    "    \"2 to 9 employees\",\n",
    "    \"10 to 19 employees\",\n",
    "    \"20 to 99 employees\",\n",
    "    \"100 to 499 employees\",\n",
    "    \"500 to 999 employees\",\n",
    "    \"1,000 to 4,999 employees\",\n",
    "    \"5,000 to 9,999 employees\",\n",
    "    \"10,000 or more employees\"\n",
    "]\n",
    "df = df[df[\"Tamano_empresa\"].isin(orden)]\n",
    "df[\"Tamano_empresa_ordinal\"] = df[\"Tamano_empresa\"].apply(lambda x: orden.index(x))\n",
    "\n",
    "# Guardamos una copia completa para el segundo modelo\n",
    "df_raw = df.copy()\n"
   ]
  },
  {
   "cell_type": "markdown",
   "id": "70a90f7e",
   "metadata": {},
   "source": [
    "## 🔧 Estrategia 1: CatBoost + Preprocesamiento + GridSearchCV"
   ]
  },
  {
   "cell_type": "code",
   "execution_count": 6,
   "id": "059edb31",
   "metadata": {},
   "outputs": [
    {
     "ename": "ValueError",
     "evalue": "With n_samples=0, test_size=0.25 and train_size=None, the resulting train set will be empty. Adjust any of the aforementioned parameters.",
     "output_type": "error",
     "traceback": [
      "\u001b[1;31m---------------------------------------------------------------------------\u001b[0m",
      "\u001b[1;31mValueError\u001b[0m                                Traceback (most recent call last)",
      "Cell \u001b[1;32mIn[6], line 35\u001b[0m\n\u001b[0;32m     23\u001b[0m pipe \u001b[38;5;241m=\u001b[39m Pipeline([\n\u001b[0;32m     24\u001b[0m     (\u001b[38;5;124m\"\u001b[39m\u001b[38;5;124mpre\u001b[39m\u001b[38;5;124m\"\u001b[39m, preprocessor),\n\u001b[0;32m     25\u001b[0m     (\u001b[38;5;124m\"\u001b[39m\u001b[38;5;124mregressor\u001b[39m\u001b[38;5;124m\"\u001b[39m, CatBoostRegressor(verbose\u001b[38;5;241m=\u001b[39m\u001b[38;5;241m0\u001b[39m, random_state\u001b[38;5;241m=\u001b[39m\u001b[38;5;241m42\u001b[39m))\n\u001b[0;32m     26\u001b[0m ])\n\u001b[0;32m     28\u001b[0m params \u001b[38;5;241m=\u001b[39m {\n\u001b[0;32m     29\u001b[0m     \u001b[38;5;124m\"\u001b[39m\u001b[38;5;124mregressor__iterations\u001b[39m\u001b[38;5;124m\"\u001b[39m: [\u001b[38;5;241m500\u001b[39m],\n\u001b[0;32m     30\u001b[0m     \u001b[38;5;124m\"\u001b[39m\u001b[38;5;124mregressor__learning_rate\u001b[39m\u001b[38;5;124m\"\u001b[39m: [\u001b[38;5;241m0.03\u001b[39m, \u001b[38;5;241m0.05\u001b[39m],\n\u001b[0;32m     31\u001b[0m     \u001b[38;5;124m\"\u001b[39m\u001b[38;5;124mregressor__depth\u001b[39m\u001b[38;5;124m\"\u001b[39m: [\u001b[38;5;241m6\u001b[39m, \u001b[38;5;241m8\u001b[39m],\n\u001b[0;32m     32\u001b[0m     \u001b[38;5;124m\"\u001b[39m\u001b[38;5;124mregressor__l2_leaf_reg\u001b[39m\u001b[38;5;124m\"\u001b[39m: [\u001b[38;5;241m1\u001b[39m, \u001b[38;5;241m3\u001b[39m]\n\u001b[0;32m     33\u001b[0m }\n\u001b[1;32m---> 35\u001b[0m X_train, X_test, y_train, y_test \u001b[38;5;241m=\u001b[39m \u001b[43mtrain_test_split\u001b[49m\u001b[43m(\u001b[49m\u001b[43mX\u001b[49m\u001b[43m,\u001b[49m\u001b[43m \u001b[49m\u001b[43my\u001b[49m\u001b[43m,\u001b[49m\u001b[43m \u001b[49m\u001b[43mrandom_state\u001b[49m\u001b[38;5;241;43m=\u001b[39;49m\u001b[38;5;241;43m42\u001b[39;49m\u001b[43m)\u001b[49m\n\u001b[0;32m     37\u001b[0m grid \u001b[38;5;241m=\u001b[39m GridSearchCV(pipe, params, cv\u001b[38;5;241m=\u001b[39m\u001b[38;5;241m3\u001b[39m, scoring\u001b[38;5;241m=\u001b[39m\u001b[38;5;124m\"\u001b[39m\u001b[38;5;124mr2\u001b[39m\u001b[38;5;124m\"\u001b[39m, verbose\u001b[38;5;241m=\u001b[39m\u001b[38;5;241m2\u001b[39m, n_jobs\u001b[38;5;241m=\u001b[39m\u001b[38;5;241m-\u001b[39m\u001b[38;5;241m1\u001b[39m)\n\u001b[0;32m     38\u001b[0m grid\u001b[38;5;241m.\u001b[39mfit(X_train, y_train)\n",
      "File \u001b[1;32mc:\\Users\\javid\\AppData\\Local\\Programs\\Python\\Python312\\Lib\\site-packages\\sklearn\\utils\\_param_validation.py:216\u001b[0m, in \u001b[0;36mvalidate_params.<locals>.decorator.<locals>.wrapper\u001b[1;34m(*args, **kwargs)\u001b[0m\n\u001b[0;32m    210\u001b[0m \u001b[38;5;28;01mtry\u001b[39;00m:\n\u001b[0;32m    211\u001b[0m     \u001b[38;5;28;01mwith\u001b[39;00m config_context(\n\u001b[0;32m    212\u001b[0m         skip_parameter_validation\u001b[38;5;241m=\u001b[39m(\n\u001b[0;32m    213\u001b[0m             prefer_skip_nested_validation \u001b[38;5;129;01mor\u001b[39;00m global_skip_validation\n\u001b[0;32m    214\u001b[0m         )\n\u001b[0;32m    215\u001b[0m     ):\n\u001b[1;32m--> 216\u001b[0m         \u001b[38;5;28;01mreturn\u001b[39;00m \u001b[43mfunc\u001b[49m\u001b[43m(\u001b[49m\u001b[38;5;241;43m*\u001b[39;49m\u001b[43margs\u001b[49m\u001b[43m,\u001b[49m\u001b[43m \u001b[49m\u001b[38;5;241;43m*\u001b[39;49m\u001b[38;5;241;43m*\u001b[39;49m\u001b[43mkwargs\u001b[49m\u001b[43m)\u001b[49m\n\u001b[0;32m    217\u001b[0m \u001b[38;5;28;01mexcept\u001b[39;00m InvalidParameterError \u001b[38;5;28;01mas\u001b[39;00m e:\n\u001b[0;32m    218\u001b[0m     \u001b[38;5;66;03m# When the function is just a wrapper around an estimator, we allow\u001b[39;00m\n\u001b[0;32m    219\u001b[0m     \u001b[38;5;66;03m# the function to delegate validation to the estimator, but we replace\u001b[39;00m\n\u001b[0;32m    220\u001b[0m     \u001b[38;5;66;03m# the name of the estimator by the name of the function in the error\u001b[39;00m\n\u001b[0;32m    221\u001b[0m     \u001b[38;5;66;03m# message to avoid confusion.\u001b[39;00m\n\u001b[0;32m    222\u001b[0m     msg \u001b[38;5;241m=\u001b[39m re\u001b[38;5;241m.\u001b[39msub(\n\u001b[0;32m    223\u001b[0m         \u001b[38;5;124mr\u001b[39m\u001b[38;5;124m\"\u001b[39m\u001b[38;5;124mparameter of \u001b[39m\u001b[38;5;124m\\\u001b[39m\u001b[38;5;124mw+ must be\u001b[39m\u001b[38;5;124m\"\u001b[39m,\n\u001b[0;32m    224\u001b[0m         \u001b[38;5;124mf\u001b[39m\u001b[38;5;124m\"\u001b[39m\u001b[38;5;124mparameter of \u001b[39m\u001b[38;5;132;01m{\u001b[39;00mfunc\u001b[38;5;241m.\u001b[39m\u001b[38;5;18m__qualname__\u001b[39m\u001b[38;5;132;01m}\u001b[39;00m\u001b[38;5;124m must be\u001b[39m\u001b[38;5;124m\"\u001b[39m,\n\u001b[0;32m    225\u001b[0m         \u001b[38;5;28mstr\u001b[39m(e),\n\u001b[0;32m    226\u001b[0m     )\n",
      "File \u001b[1;32mc:\\Users\\javid\\AppData\\Local\\Programs\\Python\\Python312\\Lib\\site-packages\\sklearn\\model_selection\\_split.py:2851\u001b[0m, in \u001b[0;36mtrain_test_split\u001b[1;34m(test_size, train_size, random_state, shuffle, stratify, *arrays)\u001b[0m\n\u001b[0;32m   2848\u001b[0m arrays \u001b[38;5;241m=\u001b[39m indexable(\u001b[38;5;241m*\u001b[39marrays)\n\u001b[0;32m   2850\u001b[0m n_samples \u001b[38;5;241m=\u001b[39m _num_samples(arrays[\u001b[38;5;241m0\u001b[39m])\n\u001b[1;32m-> 2851\u001b[0m n_train, n_test \u001b[38;5;241m=\u001b[39m \u001b[43m_validate_shuffle_split\u001b[49m\u001b[43m(\u001b[49m\n\u001b[0;32m   2852\u001b[0m \u001b[43m    \u001b[49m\u001b[43mn_samples\u001b[49m\u001b[43m,\u001b[49m\u001b[43m \u001b[49m\u001b[43mtest_size\u001b[49m\u001b[43m,\u001b[49m\u001b[43m \u001b[49m\u001b[43mtrain_size\u001b[49m\u001b[43m,\u001b[49m\u001b[43m \u001b[49m\u001b[43mdefault_test_size\u001b[49m\u001b[38;5;241;43m=\u001b[39;49m\u001b[38;5;241;43m0.25\u001b[39;49m\n\u001b[0;32m   2853\u001b[0m \u001b[43m\u001b[49m\u001b[43m)\u001b[49m\n\u001b[0;32m   2855\u001b[0m \u001b[38;5;28;01mif\u001b[39;00m shuffle \u001b[38;5;129;01mis\u001b[39;00m \u001b[38;5;28;01mFalse\u001b[39;00m:\n\u001b[0;32m   2856\u001b[0m     \u001b[38;5;28;01mif\u001b[39;00m stratify \u001b[38;5;129;01mis\u001b[39;00m \u001b[38;5;129;01mnot\u001b[39;00m \u001b[38;5;28;01mNone\u001b[39;00m:\n",
      "File \u001b[1;32mc:\\Users\\javid\\AppData\\Local\\Programs\\Python\\Python312\\Lib\\site-packages\\sklearn\\model_selection\\_split.py:2481\u001b[0m, in \u001b[0;36m_validate_shuffle_split\u001b[1;34m(n_samples, test_size, train_size, default_test_size)\u001b[0m\n\u001b[0;32m   2478\u001b[0m n_train, n_test \u001b[38;5;241m=\u001b[39m \u001b[38;5;28mint\u001b[39m(n_train), \u001b[38;5;28mint\u001b[39m(n_test)\n\u001b[0;32m   2480\u001b[0m \u001b[38;5;28;01mif\u001b[39;00m n_train \u001b[38;5;241m==\u001b[39m \u001b[38;5;241m0\u001b[39m:\n\u001b[1;32m-> 2481\u001b[0m     \u001b[38;5;28;01mraise\u001b[39;00m \u001b[38;5;167;01mValueError\u001b[39;00m(\n\u001b[0;32m   2482\u001b[0m         \u001b[38;5;124m\"\u001b[39m\u001b[38;5;124mWith n_samples=\u001b[39m\u001b[38;5;132;01m{}\u001b[39;00m\u001b[38;5;124m, test_size=\u001b[39m\u001b[38;5;132;01m{}\u001b[39;00m\u001b[38;5;124m and train_size=\u001b[39m\u001b[38;5;132;01m{}\u001b[39;00m\u001b[38;5;124m, the \u001b[39m\u001b[38;5;124m\"\u001b[39m\n\u001b[0;32m   2483\u001b[0m         \u001b[38;5;124m\"\u001b[39m\u001b[38;5;124mresulting train set will be empty. Adjust any of the \u001b[39m\u001b[38;5;124m\"\u001b[39m\n\u001b[0;32m   2484\u001b[0m         \u001b[38;5;124m\"\u001b[39m\u001b[38;5;124maforementioned parameters.\u001b[39m\u001b[38;5;124m\"\u001b[39m\u001b[38;5;241m.\u001b[39mformat(n_samples, test_size, train_size)\n\u001b[0;32m   2485\u001b[0m     )\n\u001b[0;32m   2487\u001b[0m \u001b[38;5;28;01mreturn\u001b[39;00m n_train, n_test\n",
      "\u001b[1;31mValueError\u001b[0m: With n_samples=0, test_size=0.25 and train_size=None, the resulting train set will be empty. Adjust any of the aforementioned parameters."
     ]
    }
   ],
   "source": [
    "y = df[\"Salario_anual_log\"]\n",
    "X = df.drop(columns=[\"Salario_anual\", \"Salario_anual_log\", \"Tamano_empresa\"])\n",
    "\n",
    "\n",
    "cat_cols = [\"Tipo_empleo\", \"Trabajo_remoto\", \"Pais\", \"Nivel_educativo\"]\n",
    "num_cols = [col for col in X.columns if col not in cat_cols]\n",
    "\n",
    "cat_pipeline = Pipeline([\n",
    "    (\"imp\", SimpleImputer(strategy=\"most_frequent\")),\n",
    "    (\"ohe\", OneHotEncoder(handle_unknown=\"ignore\"))\n",
    "])\n",
    "\n",
    "num_pipeline = Pipeline([\n",
    "    (\"imp\", SimpleImputer(strategy=\"median\")),\n",
    "    (\"scaler\", StandardScaler())\n",
    "])\n",
    "\n",
    "preprocessor = ColumnTransformer([\n",
    "    (\"cat\", cat_pipeline, cat_cols),\n",
    "    (\"num\", num_pipeline, num_cols)\n",
    "])\n",
    "\n",
    "pipe = Pipeline([\n",
    "    (\"pre\", preprocessor),\n",
    "    (\"regressor\", CatBoostRegressor(verbose=0, random_state=42))\n",
    "])\n",
    "\n",
    "params = {\n",
    "    \"regressor__iterations\": [500],\n",
    "    \"regressor__learning_rate\": [0.03, 0.05],\n",
    "    \"regressor__depth\": [6, 8],\n",
    "    \"regressor__l2_leaf_reg\": [1, 3]\n",
    "}\n",
    "\n",
    "X_train, X_test, y_train, y_test = train_test_split(X, y, random_state=42)\n",
    "\n",
    "grid = GridSearchCV(pipe, params, cv=3, scoring=\"r2\", verbose=2, n_jobs=-1)\n",
    "grid.fit(X_train, y_train)\n",
    "\n",
    "print(\"Mejor configuración:\", grid.best_params_)\n",
    "print(\"R² (test - preprocesado):\", r2_score(y_test, grid.predict(X_test)))\n"
   ]
  },
  {
   "cell_type": "markdown",
   "id": "2ca41125",
   "metadata": {},
   "source": [
    "## 🧠 Estrategia 2: CatBoost sin preprocesar (nativo con categóricas)"
   ]
  },
  {
   "cell_type": "code",
   "execution_count": null,
   "id": "c589c61d",
   "metadata": {},
   "outputs": [],
   "source": [
    "X_cb = df_raw.drop(columns=[\"Salario_anual\", \"Salario_anual_log\"])\n",
    "y_cb = df_raw[\"Salario_anual_log\"]\n",
    "\n",
    "cat_features = [\"Tipo_empleo\", \"Trabajo_remoto\", \"Pais\", \"Nivel_educativo\", \"Tamano_empresa\"]\n",
    "\n",
    "X_train_cb, X_test_cb, y_train_cb, y_test_cb = train_test_split(X_cb, y_cb, random_state=42)\n",
    "\n",
    "pool_train = Pool(X_train_cb, y_train_cb, cat_features=cat_features)\n",
    "pool_test = Pool(X_test_cb, y_test_cb, cat_features=cat_features)\n",
    "\n",
    "modelo_cb = CatBoostRegressor(\n",
    "    iterations=500,\n",
    "    learning_rate=0.05,\n",
    "    depth=8,\n",
    "    l2_leaf_reg=3,\n",
    "    random_state=42,\n",
    "    verbose=100\n",
    ")\n",
    "\n",
    "modelo_cb.fit(pool_train)\n",
    "y_pred_cb = modelo_cb.predict(pool_test)\n",
    "\n",
    "print(\"R² (test - categóricas nativas):\", r2_score(y_test_cb, y_pred_cb))\n"
   ]
  }
 ],
 "metadata": {
  "kernelspec": {
   "display_name": "Python 3",
   "language": "python",
   "name": "python3"
  },
  "language_info": {
   "codemirror_mode": {
    "name": "ipython",
    "version": 3
   },
   "file_extension": ".py",
   "mimetype": "text/x-python",
   "name": "python",
   "nbconvert_exporter": "python",
   "pygments_lexer": "ipython3",
   "version": "3.12.4"
  }
 },
 "nbformat": 4,
 "nbformat_minor": 5
}
