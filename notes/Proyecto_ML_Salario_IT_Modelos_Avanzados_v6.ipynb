{
 "cells": [
  {
   "cell_type": "markdown",
   "id": "1e94ef0d",
   "metadata": {},
   "source": [
    "# 🧠 Optimización del Modelo de Predicción de Salario en IT con Nivel Educativo Ordinal\n",
    "\n",
    "Este notebook incluye:\n",
    "- Conversión de `Nivel_educativo` a escala ordinal (0-7)\n",
    "- Preprocesamiento completo\n",
    "- Ingeniería de características\n",
    "- GridSearchCV para LightGBM\n",
    "- Evaluación del rendimiento final\n"
   ]
  },
  {
   "cell_type": "code",
   "execution_count": 1,
   "id": "1c0306e4",
   "metadata": {},
   "outputs": [],
   "source": [
    "import pandas as pd\n",
    "import numpy as np\n",
    "from sklearn.model_selection import train_test_split, GridSearchCV\n",
    "from sklearn.compose import ColumnTransformer\n",
    "from sklearn.pipeline import Pipeline\n",
    "from sklearn.preprocessing import OneHotEncoder, StandardScaler\n",
    "from sklearn.impute import SimpleImputer\n",
    "from sklearn.metrics import r2_score\n",
    "from lightgbm import LGBMRegressor\n",
    "import warnings\n",
    "warnings.filterwarnings(\"ignore\")\n"
   ]
  },
  {
   "cell_type": "code",
   "execution_count": 2,
   "id": "ccdfd5f6",
   "metadata": {},
   "outputs": [],
   "source": [
    "# Cargar dataset\n",
    "df = pd.read_csv(\"./data/survey_results_public.csv\", low_memory=False)\n",
    "\n",
    "# Renombrar columnas clave\n",
    "columnas = {\n",
    "    \"Employment\": \"Tipo_empleo\",\n",
    "    \"RemoteWork\": \"Trabajo_remoto\",\n",
    "    \"DevType\": \"Rol\",\n",
    "    \"EdLevel\": \"Nivel_educativo\",\n",
    "    \"YearsCodePro\": \"Anios_experiencia\",\n",
    "    \"Country\": \"Pais\",\n",
    "    \"OrgSize\": \"Tamano_empresa\",\n",
    "    \"ConvertedCompYearly\": \"Salario_anual\"\n",
    "}\n",
    "df = df[list(columnas.keys())].rename(columns=columnas)\n",
    "\n",
    "# Filtrar salarios extremos\n",
    "df = df[df[\"Salario_anual\"].between(10000, 300000)]\n",
    "\n",
    "# Convertir experiencia a numérico\n",
    "df[\"Anios_experiencia\"] = df[\"Anios_experiencia\"].replace({\n",
    "    \"Less than 1 year\": \"0\", \"More than 50 years\": \"51\"\n",
    "})\n",
    "df[\"Anios_experiencia\"] = pd.to_numeric(df[\"Anios_experiencia\"], errors=\"coerce\")\n",
    "\n",
    "# Agrupar países poco frecuentes\n",
    "top_paises = df[\"Pais\"].value_counts().head(15).index\n",
    "df[\"Pais\"] = df[\"Pais\"].apply(lambda x: x if x in top_paises else \"Otro\")\n",
    "\n",
    "# Expandir columna multietiqueta 'Rol'\n",
    "roles = df[\"Rol\"].str.get_dummies(sep=\";\")\n",
    "df = pd.concat([df.drop(columns=[\"Rol\"]), roles], axis=1)\n",
    "df = df.dropna()\n"
   ]
  },
  {
   "cell_type": "code",
   "execution_count": 3,
   "id": "3419360b",
   "metadata": {},
   "outputs": [],
   "source": [
    "# Codificación ordinal 0-7\n",
    "mapa_educacion = {\n",
    "    \"Primary/elementary school\": 0,\n",
    "    \"Secondary school (e.g. American high school, German Realschule or Gymnasium, etc.)\": 1,\n",
    "    \"Some college/university study without earning a degree\": 2,\n",
    "    \"Associate degree (A.A., A.S., etc.)\": 3,\n",
    "    \"Bachelor’s degree (B.A., B.S., B.Eng., etc.)\": 4,\n",
    "    \"Master’s degree (M.A., M.S., M.Eng., MBA, etc.)\": 5,\n",
    "    \"Professional degree (JD, MD, etc.)\": 6,\n",
    "    \"Other doctoral degree (Ph.D., Ed.D., etc.)\": 7\n",
    "}\n",
    "\n",
    "df = df[df[\"Nivel_educativo\"].isin(mapa_educacion.keys())]\n",
    "df[\"Nivel_educativo_ordinal\"] = df[\"Nivel_educativo\"].map(mapa_educacion)\n"
   ]
  },
  {
   "cell_type": "code",
   "execution_count": 4,
   "id": "db686f95",
   "metadata": {},
   "outputs": [],
   "source": [
    "# Transformar salario y generar nuevas variables\n",
    "df[\"Salario_anual_log\"] = np.log1p(df[\"Salario_anual\"])\n",
    "df[\"Anios_experiencia_log\"] = np.log1p(df[\"Anios_experiencia\"])\n",
    "df[\"Anios_experiencia_cuadrado\"] = df[\"Anios_experiencia\"] ** 2\n"
   ]
  },
  {
   "cell_type": "code",
   "execution_count": 5,
   "id": "08361bb8",
   "metadata": {},
   "outputs": [],
   "source": [
    "X = df.drop(columns=[\"Salario_anual\", \"Salario_anual_log\", \"Nivel_educativo\"])\n",
    "y = df[\"Salario_anual_log\"]\n",
    "\n",
    "cat_cols = [\"Tipo_empleo\", \"Trabajo_remoto\", \"Pais\", \"Tamano_empresa\"]\n",
    "num_cols = [col for col in X.columns if col not in cat_cols]\n"
   ]
  },
  {
   "cell_type": "code",
   "execution_count": 6,
   "id": "4bab98a6",
   "metadata": {},
   "outputs": [],
   "source": [
    "cat_pipeline = Pipeline([\n",
    "    (\"imputer\", SimpleImputer(strategy=\"most_frequent\")),\n",
    "    (\"encoder\", OneHotEncoder(handle_unknown=\"ignore\"))\n",
    "])\n",
    "\n",
    "num_pipeline = Pipeline([\n",
    "    (\"imputer\", SimpleImputer(strategy=\"median\")),\n",
    "    (\"scaler\", StandardScaler())\n",
    "])\n",
    "\n",
    "preprocessor = ColumnTransformer([\n",
    "    (\"cat\", cat_pipeline, cat_cols),\n",
    "    (\"num\", num_pipeline, num_cols)\n",
    "])\n"
   ]
  },
  {
   "cell_type": "code",
   "execution_count": 7,
   "id": "a1a8c9e8",
   "metadata": {},
   "outputs": [
    {
     "name": "stdout",
     "output_type": "stream",
     "text": [
      "Fitting 3 folds for each of 32 candidates, totalling 96 fits\n",
      "[LightGBM] [Info] Auto-choosing row-wise multi-threading, the overhead of testing was 0.001273 seconds.\n",
      "You can set `force_row_wise=true` to remove the overhead.\n",
      "And if memory is not enough, you can set `force_col_wise=true`.\n",
      "[LightGBM] [Info] Total Bins 334\n",
      "[LightGBM] [Info] Number of data points in the train set: 15452, number of used features: 77\n",
      "[LightGBM] [Info] Start training from score 11.105598\n",
      "Mejores parámetros encontrados: {'regressor__learning_rate': 0.05, 'regressor__max_depth': 15, 'regressor__min_child_samples': 30, 'regressor__n_estimators': 200, 'regressor__num_leaves': 31}\n",
      "Mejor R² en validación cruzada: 0.5970086026178337\n"
     ]
    }
   ],
   "source": [
    "X_train, X_test, y_train, y_test = train_test_split(\n",
    "    X, y, test_size=0.2, random_state=42\n",
    ")\n",
    "\n",
    "pipe = Pipeline([\n",
    "    (\"preprocessor\", preprocessor),\n",
    "    (\"regressor\", LGBMRegressor(random_state=42))\n",
    "])\n",
    "\n",
    "param_grid = {\n",
    "    \"regressor__n_estimators\": [100, 200],\n",
    "    \"regressor__max_depth\": [10, 15],\n",
    "    \"regressor__learning_rate\": [0.05, 0.1],\n",
    "    \"regressor__num_leaves\": [31, 50],\n",
    "    \"regressor__min_child_samples\": [20, 30]\n",
    "}\n",
    "\n",
    "search = GridSearchCV(\n",
    "    pipe,\n",
    "    param_grid=param_grid,\n",
    "    scoring=\"r2\",\n",
    "    cv=3,\n",
    "    verbose=2,\n",
    "    n_jobs=-1\n",
    ")\n",
    "\n",
    "search.fit(X_train, y_train)\n",
    "print(\"Mejores parámetros encontrados:\", search.best_params_)\n",
    "print(\"Mejor R² en validación cruzada:\", search.best_score_)\n"
   ]
  },
  {
   "cell_type": "code",
   "execution_count": 8,
   "id": "79056fb6",
   "metadata": {},
   "outputs": [
    {
     "name": "stdout",
     "output_type": "stream",
     "text": [
      "R² en test: 0.5937980451313298\n"
     ]
    }
   ],
   "source": [
    "mejor_modelo = search.best_estimator_\n",
    "y_pred = mejor_modelo.predict(X_test)\n",
    "print(\"R² en test:\", r2_score(y_test, y_pred))\n"
   ]
  }
 ],
 "metadata": {
  "kernelspec": {
   "display_name": "Python 3",
   "language": "python",
   "name": "python3"
  },
  "language_info": {
   "codemirror_mode": {
    "name": "ipython",
    "version": 3
   },
   "file_extension": ".py",
   "mimetype": "text/x-python",
   "name": "python",
   "nbconvert_exporter": "python",
   "pygments_lexer": "ipython3",
   "version": "3.12.4"
  }
 },
 "nbformat": 4,
 "nbformat_minor": 5
}
